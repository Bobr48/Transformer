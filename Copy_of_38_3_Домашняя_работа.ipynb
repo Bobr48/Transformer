{
  "nbformat": 4,
  "nbformat_minor": 0,
  "metadata": {
    "colab": {
      "provenance": [],
      "gpuType": "V28",
      "include_colab_link": true
    },
    "kernelspec": {
      "name": "python3",
      "display_name": "Python 3"
    },
    "language_info": {
      "name": "python"
    },
    "accelerator": "TPU",
    "widgets": {
      "application/vnd.jupyter.widget-state+json": {
        "610ec94ebe6444818ea63cd973bb221b": {
          "model_module": "@jupyter-widgets/controls",
          "model_name": "HBoxModel",
          "model_module_version": "1.5.0",
          "state": {
            "_dom_classes": [],
            "_model_module": "@jupyter-widgets/controls",
            "_model_module_version": "1.5.0",
            "_model_name": "HBoxModel",
            "_view_count": null,
            "_view_module": "@jupyter-widgets/controls",
            "_view_module_version": "1.5.0",
            "_view_name": "HBoxView",
            "box_style": "",
            "children": [
              "IPY_MODEL_20feb13e8c62497ead6fc12b1b821ec6",
              "IPY_MODEL_d2a39714ed1d48818715dc92f30744b1",
              "IPY_MODEL_76f41dbbc04d4a3d9276323d33cf7e94"
            ],
            "layout": "IPY_MODEL_e8b8ed4db9054856b100d50c71cce537"
          }
        },
        "20feb13e8c62497ead6fc12b1b821ec6": {
          "model_module": "@jupyter-widgets/controls",
          "model_name": "HTMLModel",
          "model_module_version": "1.5.0",
          "state": {
            "_dom_classes": [],
            "_model_module": "@jupyter-widgets/controls",
            "_model_module_version": "1.5.0",
            "_model_name": "HTMLModel",
            "_view_count": null,
            "_view_module": "@jupyter-widgets/controls",
            "_view_module_version": "1.5.0",
            "_view_name": "HTMLView",
            "description": "",
            "description_tooltip": null,
            "layout": "IPY_MODEL_debb7381dfe049299ffdec0040943826",
            "placeholder": "​",
            "style": "IPY_MODEL_324acd8e1b1c4ba1a7151fdcd95db1ef",
            "value": "README.md: 100%"
          }
        },
        "d2a39714ed1d48818715dc92f30744b1": {
          "model_module": "@jupyter-widgets/controls",
          "model_name": "FloatProgressModel",
          "model_module_version": "1.5.0",
          "state": {
            "_dom_classes": [],
            "_model_module": "@jupyter-widgets/controls",
            "_model_module_version": "1.5.0",
            "_model_name": "FloatProgressModel",
            "_view_count": null,
            "_view_module": "@jupyter-widgets/controls",
            "_view_module_version": "1.5.0",
            "_view_name": "ProgressView",
            "bar_style": "success",
            "description": "",
            "description_tooltip": null,
            "layout": "IPY_MODEL_e519ccf1892b45109138140bd0c7f694",
            "max": 951,
            "min": 0,
            "orientation": "horizontal",
            "style": "IPY_MODEL_1f96600521c1465ab919ea775139db85",
            "value": 951
          }
        },
        "76f41dbbc04d4a3d9276323d33cf7e94": {
          "model_module": "@jupyter-widgets/controls",
          "model_name": "HTMLModel",
          "model_module_version": "1.5.0",
          "state": {
            "_dom_classes": [],
            "_model_module": "@jupyter-widgets/controls",
            "_model_module_version": "1.5.0",
            "_model_name": "HTMLModel",
            "_view_count": null,
            "_view_module": "@jupyter-widgets/controls",
            "_view_module_version": "1.5.0",
            "_view_name": "HTMLView",
            "description": "",
            "description_tooltip": null,
            "layout": "IPY_MODEL_7e805210e7774827914a4c8751586287",
            "placeholder": "​",
            "style": "IPY_MODEL_0fcdbf0c75864fa1b91e7cafb2975b7c",
            "value": " 951/951 [00:00&lt;00:00, 52.4kB/s]"
          }
        },
        "e8b8ed4db9054856b100d50c71cce537": {
          "model_module": "@jupyter-widgets/base",
          "model_name": "LayoutModel",
          "model_module_version": "1.2.0",
          "state": {
            "_model_module": "@jupyter-widgets/base",
            "_model_module_version": "1.2.0",
            "_model_name": "LayoutModel",
            "_view_count": null,
            "_view_module": "@jupyter-widgets/base",
            "_view_module_version": "1.2.0",
            "_view_name": "LayoutView",
            "align_content": null,
            "align_items": null,
            "align_self": null,
            "border": null,
            "bottom": null,
            "display": null,
            "flex": null,
            "flex_flow": null,
            "grid_area": null,
            "grid_auto_columns": null,
            "grid_auto_flow": null,
            "grid_auto_rows": null,
            "grid_column": null,
            "grid_gap": null,
            "grid_row": null,
            "grid_template_areas": null,
            "grid_template_columns": null,
            "grid_template_rows": null,
            "height": null,
            "justify_content": null,
            "justify_items": null,
            "left": null,
            "margin": null,
            "max_height": null,
            "max_width": null,
            "min_height": null,
            "min_width": null,
            "object_fit": null,
            "object_position": null,
            "order": null,
            "overflow": null,
            "overflow_x": null,
            "overflow_y": null,
            "padding": null,
            "right": null,
            "top": null,
            "visibility": null,
            "width": null
          }
        },
        "debb7381dfe049299ffdec0040943826": {
          "model_module": "@jupyter-widgets/base",
          "model_name": "LayoutModel",
          "model_module_version": "1.2.0",
          "state": {
            "_model_module": "@jupyter-widgets/base",
            "_model_module_version": "1.2.0",
            "_model_name": "LayoutModel",
            "_view_count": null,
            "_view_module": "@jupyter-widgets/base",
            "_view_module_version": "1.2.0",
            "_view_name": "LayoutView",
            "align_content": null,
            "align_items": null,
            "align_self": null,
            "border": null,
            "bottom": null,
            "display": null,
            "flex": null,
            "flex_flow": null,
            "grid_area": null,
            "grid_auto_columns": null,
            "grid_auto_flow": null,
            "grid_auto_rows": null,
            "grid_column": null,
            "grid_gap": null,
            "grid_row": null,
            "grid_template_areas": null,
            "grid_template_columns": null,
            "grid_template_rows": null,
            "height": null,
            "justify_content": null,
            "justify_items": null,
            "left": null,
            "margin": null,
            "max_height": null,
            "max_width": null,
            "min_height": null,
            "min_width": null,
            "object_fit": null,
            "object_position": null,
            "order": null,
            "overflow": null,
            "overflow_x": null,
            "overflow_y": null,
            "padding": null,
            "right": null,
            "top": null,
            "visibility": null,
            "width": null
          }
        },
        "324acd8e1b1c4ba1a7151fdcd95db1ef": {
          "model_module": "@jupyter-widgets/controls",
          "model_name": "DescriptionStyleModel",
          "model_module_version": "1.5.0",
          "state": {
            "_model_module": "@jupyter-widgets/controls",
            "_model_module_version": "1.5.0",
            "_model_name": "DescriptionStyleModel",
            "_view_count": null,
            "_view_module": "@jupyter-widgets/base",
            "_view_module_version": "1.2.0",
            "_view_name": "StyleView",
            "description_width": ""
          }
        },
        "e519ccf1892b45109138140bd0c7f694": {
          "model_module": "@jupyter-widgets/base",
          "model_name": "LayoutModel",
          "model_module_version": "1.2.0",
          "state": {
            "_model_module": "@jupyter-widgets/base",
            "_model_module_version": "1.2.0",
            "_model_name": "LayoutModel",
            "_view_count": null,
            "_view_module": "@jupyter-widgets/base",
            "_view_module_version": "1.2.0",
            "_view_name": "LayoutView",
            "align_content": null,
            "align_items": null,
            "align_self": null,
            "border": null,
            "bottom": null,
            "display": null,
            "flex": null,
            "flex_flow": null,
            "grid_area": null,
            "grid_auto_columns": null,
            "grid_auto_flow": null,
            "grid_auto_rows": null,
            "grid_column": null,
            "grid_gap": null,
            "grid_row": null,
            "grid_template_areas": null,
            "grid_template_columns": null,
            "grid_template_rows": null,
            "height": null,
            "justify_content": null,
            "justify_items": null,
            "left": null,
            "margin": null,
            "max_height": null,
            "max_width": null,
            "min_height": null,
            "min_width": null,
            "object_fit": null,
            "object_position": null,
            "order": null,
            "overflow": null,
            "overflow_x": null,
            "overflow_y": null,
            "padding": null,
            "right": null,
            "top": null,
            "visibility": null,
            "width": null
          }
        },
        "1f96600521c1465ab919ea775139db85": {
          "model_module": "@jupyter-widgets/controls",
          "model_name": "ProgressStyleModel",
          "model_module_version": "1.5.0",
          "state": {
            "_model_module": "@jupyter-widgets/controls",
            "_model_module_version": "1.5.0",
            "_model_name": "ProgressStyleModel",
            "_view_count": null,
            "_view_module": "@jupyter-widgets/base",
            "_view_module_version": "1.2.0",
            "_view_name": "StyleView",
            "bar_color": null,
            "description_width": ""
          }
        },
        "7e805210e7774827914a4c8751586287": {
          "model_module": "@jupyter-widgets/base",
          "model_name": "LayoutModel",
          "model_module_version": "1.2.0",
          "state": {
            "_model_module": "@jupyter-widgets/base",
            "_model_module_version": "1.2.0",
            "_model_name": "LayoutModel",
            "_view_count": null,
            "_view_module": "@jupyter-widgets/base",
            "_view_module_version": "1.2.0",
            "_view_name": "LayoutView",
            "align_content": null,
            "align_items": null,
            "align_self": null,
            "border": null,
            "bottom": null,
            "display": null,
            "flex": null,
            "flex_flow": null,
            "grid_area": null,
            "grid_auto_columns": null,
            "grid_auto_flow": null,
            "grid_auto_rows": null,
            "grid_column": null,
            "grid_gap": null,
            "grid_row": null,
            "grid_template_areas": null,
            "grid_template_columns": null,
            "grid_template_rows": null,
            "height": null,
            "justify_content": null,
            "justify_items": null,
            "left": null,
            "margin": null,
            "max_height": null,
            "max_width": null,
            "min_height": null,
            "min_width": null,
            "object_fit": null,
            "object_position": null,
            "order": null,
            "overflow": null,
            "overflow_x": null,
            "overflow_y": null,
            "padding": null,
            "right": null,
            "top": null,
            "visibility": null,
            "width": null
          }
        },
        "0fcdbf0c75864fa1b91e7cafb2975b7c": {
          "model_module": "@jupyter-widgets/controls",
          "model_name": "DescriptionStyleModel",
          "model_module_version": "1.5.0",
          "state": {
            "_model_module": "@jupyter-widgets/controls",
            "_model_module_version": "1.5.0",
            "_model_name": "DescriptionStyleModel",
            "_view_count": null,
            "_view_module": "@jupyter-widgets/base",
            "_view_module_version": "1.2.0",
            "_view_name": "StyleView",
            "description_width": ""
          }
        },
        "a0a3ce45e2bc4d7ca66c30d72029ef51": {
          "model_module": "@jupyter-widgets/controls",
          "model_name": "HBoxModel",
          "model_module_version": "1.5.0",
          "state": {
            "_dom_classes": [],
            "_model_module": "@jupyter-widgets/controls",
            "_model_module_version": "1.5.0",
            "_model_name": "HBoxModel",
            "_view_count": null,
            "_view_module": "@jupyter-widgets/controls",
            "_view_module_version": "1.5.0",
            "_view_name": "HBoxView",
            "box_style": "",
            "children": [
              "IPY_MODEL_03c323dc935749f995000e14b9cd9879",
              "IPY_MODEL_e38f326dc0214f6aaafe328fd5f157e3",
              "IPY_MODEL_ecb9a85f92824f42b341e5a9f469c032"
            ],
            "layout": "IPY_MODEL_fc0992d1ce5847a0ad1493ba8d21bc6d"
          }
        },
        "03c323dc935749f995000e14b9cd9879": {
          "model_module": "@jupyter-widgets/controls",
          "model_name": "HTMLModel",
          "model_module_version": "1.5.0",
          "state": {
            "_dom_classes": [],
            "_model_module": "@jupyter-widgets/controls",
            "_model_module_version": "1.5.0",
            "_model_name": "HTMLModel",
            "_view_count": null,
            "_view_module": "@jupyter-widgets/controls",
            "_view_module_version": "1.5.0",
            "_view_name": "HTMLView",
            "description": "",
            "description_tooltip": null,
            "layout": "IPY_MODEL_aeca6a08fe1845f195518eff3c84147e",
            "placeholder": "​",
            "style": "IPY_MODEL_b1de54c3b5ae4c7284c3168e2fd8c8fa",
            "value": "dataset.jsonl: 100%"
          }
        },
        "e38f326dc0214f6aaafe328fd5f157e3": {
          "model_module": "@jupyter-widgets/controls",
          "model_name": "FloatProgressModel",
          "model_module_version": "1.5.0",
          "state": {
            "_dom_classes": [],
            "_model_module": "@jupyter-widgets/controls",
            "_model_module_version": "1.5.0",
            "_model_name": "FloatProgressModel",
            "_view_count": null,
            "_view_module": "@jupyter-widgets/controls",
            "_view_module_version": "1.5.0",
            "_view_name": "ProgressView",
            "bar_style": "success",
            "description": "",
            "description_tooltip": null,
            "layout": "IPY_MODEL_a6a379248fae4102a3d03b68d27b2afa",
            "max": 1421432950,
            "min": 0,
            "orientation": "horizontal",
            "style": "IPY_MODEL_e21636c3f1ac444fb94fee60f1b9f9c9",
            "value": 1421432950
          }
        },
        "ecb9a85f92824f42b341e5a9f469c032": {
          "model_module": "@jupyter-widgets/controls",
          "model_name": "HTMLModel",
          "model_module_version": "1.5.0",
          "state": {
            "_dom_classes": [],
            "_model_module": "@jupyter-widgets/controls",
            "_model_module_version": "1.5.0",
            "_model_name": "HTMLModel",
            "_view_count": null,
            "_view_module": "@jupyter-widgets/controls",
            "_view_module_version": "1.5.0",
            "_view_name": "HTMLView",
            "description": "",
            "description_tooltip": null,
            "layout": "IPY_MODEL_42e10a5d2406447d899237872cef5274",
            "placeholder": "​",
            "style": "IPY_MODEL_b828f269535945c093e786f9448a469a",
            "value": " 1.42G/1.42G [00:13&lt;00:00, 80.2MB/s]"
          }
        },
        "fc0992d1ce5847a0ad1493ba8d21bc6d": {
          "model_module": "@jupyter-widgets/base",
          "model_name": "LayoutModel",
          "model_module_version": "1.2.0",
          "state": {
            "_model_module": "@jupyter-widgets/base",
            "_model_module_version": "1.2.0",
            "_model_name": "LayoutModel",
            "_view_count": null,
            "_view_module": "@jupyter-widgets/base",
            "_view_module_version": "1.2.0",
            "_view_name": "LayoutView",
            "align_content": null,
            "align_items": null,
            "align_self": null,
            "border": null,
            "bottom": null,
            "display": null,
            "flex": null,
            "flex_flow": null,
            "grid_area": null,
            "grid_auto_columns": null,
            "grid_auto_flow": null,
            "grid_auto_rows": null,
            "grid_column": null,
            "grid_gap": null,
            "grid_row": null,
            "grid_template_areas": null,
            "grid_template_columns": null,
            "grid_template_rows": null,
            "height": null,
            "justify_content": null,
            "justify_items": null,
            "left": null,
            "margin": null,
            "max_height": null,
            "max_width": null,
            "min_height": null,
            "min_width": null,
            "object_fit": null,
            "object_position": null,
            "order": null,
            "overflow": null,
            "overflow_x": null,
            "overflow_y": null,
            "padding": null,
            "right": null,
            "top": null,
            "visibility": null,
            "width": null
          }
        },
        "aeca6a08fe1845f195518eff3c84147e": {
          "model_module": "@jupyter-widgets/base",
          "model_name": "LayoutModel",
          "model_module_version": "1.2.0",
          "state": {
            "_model_module": "@jupyter-widgets/base",
            "_model_module_version": "1.2.0",
            "_model_name": "LayoutModel",
            "_view_count": null,
            "_view_module": "@jupyter-widgets/base",
            "_view_module_version": "1.2.0",
            "_view_name": "LayoutView",
            "align_content": null,
            "align_items": null,
            "align_self": null,
            "border": null,
            "bottom": null,
            "display": null,
            "flex": null,
            "flex_flow": null,
            "grid_area": null,
            "grid_auto_columns": null,
            "grid_auto_flow": null,
            "grid_auto_rows": null,
            "grid_column": null,
            "grid_gap": null,
            "grid_row": null,
            "grid_template_areas": null,
            "grid_template_columns": null,
            "grid_template_rows": null,
            "height": null,
            "justify_content": null,
            "justify_items": null,
            "left": null,
            "margin": null,
            "max_height": null,
            "max_width": null,
            "min_height": null,
            "min_width": null,
            "object_fit": null,
            "object_position": null,
            "order": null,
            "overflow": null,
            "overflow_x": null,
            "overflow_y": null,
            "padding": null,
            "right": null,
            "top": null,
            "visibility": null,
            "width": null
          }
        },
        "b1de54c3b5ae4c7284c3168e2fd8c8fa": {
          "model_module": "@jupyter-widgets/controls",
          "model_name": "DescriptionStyleModel",
          "model_module_version": "1.5.0",
          "state": {
            "_model_module": "@jupyter-widgets/controls",
            "_model_module_version": "1.5.0",
            "_model_name": "DescriptionStyleModel",
            "_view_count": null,
            "_view_module": "@jupyter-widgets/base",
            "_view_module_version": "1.2.0",
            "_view_name": "StyleView",
            "description_width": ""
          }
        },
        "a6a379248fae4102a3d03b68d27b2afa": {
          "model_module": "@jupyter-widgets/base",
          "model_name": "LayoutModel",
          "model_module_version": "1.2.0",
          "state": {
            "_model_module": "@jupyter-widgets/base",
            "_model_module_version": "1.2.0",
            "_model_name": "LayoutModel",
            "_view_count": null,
            "_view_module": "@jupyter-widgets/base",
            "_view_module_version": "1.2.0",
            "_view_name": "LayoutView",
            "align_content": null,
            "align_items": null,
            "align_self": null,
            "border": null,
            "bottom": null,
            "display": null,
            "flex": null,
            "flex_flow": null,
            "grid_area": null,
            "grid_auto_columns": null,
            "grid_auto_flow": null,
            "grid_auto_rows": null,
            "grid_column": null,
            "grid_gap": null,
            "grid_row": null,
            "grid_template_areas": null,
            "grid_template_columns": null,
            "grid_template_rows": null,
            "height": null,
            "justify_content": null,
            "justify_items": null,
            "left": null,
            "margin": null,
            "max_height": null,
            "max_width": null,
            "min_height": null,
            "min_width": null,
            "object_fit": null,
            "object_position": null,
            "order": null,
            "overflow": null,
            "overflow_x": null,
            "overflow_y": null,
            "padding": null,
            "right": null,
            "top": null,
            "visibility": null,
            "width": null
          }
        },
        "e21636c3f1ac444fb94fee60f1b9f9c9": {
          "model_module": "@jupyter-widgets/controls",
          "model_name": "ProgressStyleModel",
          "model_module_version": "1.5.0",
          "state": {
            "_model_module": "@jupyter-widgets/controls",
            "_model_module_version": "1.5.0",
            "_model_name": "ProgressStyleModel",
            "_view_count": null,
            "_view_module": "@jupyter-widgets/base",
            "_view_module_version": "1.2.0",
            "_view_name": "StyleView",
            "bar_color": null,
            "description_width": ""
          }
        },
        "42e10a5d2406447d899237872cef5274": {
          "model_module": "@jupyter-widgets/base",
          "model_name": "LayoutModel",
          "model_module_version": "1.2.0",
          "state": {
            "_model_module": "@jupyter-widgets/base",
            "_model_module_version": "1.2.0",
            "_model_name": "LayoutModel",
            "_view_count": null,
            "_view_module": "@jupyter-widgets/base",
            "_view_module_version": "1.2.0",
            "_view_name": "LayoutView",
            "align_content": null,
            "align_items": null,
            "align_self": null,
            "border": null,
            "bottom": null,
            "display": null,
            "flex": null,
            "flex_flow": null,
            "grid_area": null,
            "grid_auto_columns": null,
            "grid_auto_flow": null,
            "grid_auto_rows": null,
            "grid_column": null,
            "grid_gap": null,
            "grid_row": null,
            "grid_template_areas": null,
            "grid_template_columns": null,
            "grid_template_rows": null,
            "height": null,
            "justify_content": null,
            "justify_items": null,
            "left": null,
            "margin": null,
            "max_height": null,
            "max_width": null,
            "min_height": null,
            "min_width": null,
            "object_fit": null,
            "object_position": null,
            "order": null,
            "overflow": null,
            "overflow_x": null,
            "overflow_y": null,
            "padding": null,
            "right": null,
            "top": null,
            "visibility": null,
            "width": null
          }
        },
        "b828f269535945c093e786f9448a469a": {
          "model_module": "@jupyter-widgets/controls",
          "model_name": "DescriptionStyleModel",
          "model_module_version": "1.5.0",
          "state": {
            "_model_module": "@jupyter-widgets/controls",
            "_model_module_version": "1.5.0",
            "_model_name": "DescriptionStyleModel",
            "_view_count": null,
            "_view_module": "@jupyter-widgets/base",
            "_view_module_version": "1.2.0",
            "_view_name": "StyleView",
            "description_width": ""
          }
        },
        "dad3cf07990b4184b46bb551712e5b69": {
          "model_module": "@jupyter-widgets/controls",
          "model_name": "HBoxModel",
          "model_module_version": "1.5.0",
          "state": {
            "_dom_classes": [],
            "_model_module": "@jupyter-widgets/controls",
            "_model_module_version": "1.5.0",
            "_model_name": "HBoxModel",
            "_view_count": null,
            "_view_module": "@jupyter-widgets/controls",
            "_view_module_version": "1.5.0",
            "_view_name": "HBoxView",
            "box_style": "",
            "children": [
              "IPY_MODEL_26980b2c08d74f8183f25390db13503b",
              "IPY_MODEL_4135c0ca533e41e2ab55c7ce56588f9a",
              "IPY_MODEL_910650ee8c85487f9b218d99a1b2b2ae"
            ],
            "layout": "IPY_MODEL_d7b3387da3b0408dad225b97f0849def"
          }
        },
        "26980b2c08d74f8183f25390db13503b": {
          "model_module": "@jupyter-widgets/controls",
          "model_name": "HTMLModel",
          "model_module_version": "1.5.0",
          "state": {
            "_dom_classes": [],
            "_model_module": "@jupyter-widgets/controls",
            "_model_module_version": "1.5.0",
            "_model_name": "HTMLModel",
            "_view_count": null,
            "_view_module": "@jupyter-widgets/controls",
            "_view_module_version": "1.5.0",
            "_view_name": "HTMLView",
            "description": "",
            "description_tooltip": null,
            "layout": "IPY_MODEL_7f46b4c89bdf4c979765e222b2f4c1de",
            "placeholder": "​",
            "style": "IPY_MODEL_05d5e5e6c657474288c19d3a6ed4c94e",
            "value": "Generating train split: 100%"
          }
        },
        "4135c0ca533e41e2ab55c7ce56588f9a": {
          "model_module": "@jupyter-widgets/controls",
          "model_name": "FloatProgressModel",
          "model_module_version": "1.5.0",
          "state": {
            "_dom_classes": [],
            "_model_module": "@jupyter-widgets/controls",
            "_model_module_version": "1.5.0",
            "_model_name": "FloatProgressModel",
            "_view_count": null,
            "_view_module": "@jupyter-widgets/controls",
            "_view_module_version": "1.5.0",
            "_view_name": "ProgressView",
            "bar_style": "success",
            "description": "",
            "description_tooltip": null,
            "layout": "IPY_MODEL_252c19d7816f4d038fa274979cef66fb",
            "max": 2477321,
            "min": 0,
            "orientation": "horizontal",
            "style": "IPY_MODEL_3f996f6ce3864b2297b00b64e32d3485",
            "value": 2477321
          }
        },
        "910650ee8c85487f9b218d99a1b2b2ae": {
          "model_module": "@jupyter-widgets/controls",
          "model_name": "HTMLModel",
          "model_module_version": "1.5.0",
          "state": {
            "_dom_classes": [],
            "_model_module": "@jupyter-widgets/controls",
            "_model_module_version": "1.5.0",
            "_model_name": "HTMLModel",
            "_view_count": null,
            "_view_module": "@jupyter-widgets/controls",
            "_view_module_version": "1.5.0",
            "_view_name": "HTMLView",
            "description": "",
            "description_tooltip": null,
            "layout": "IPY_MODEL_f7b7982cf1be4bc098feb39c1465ccc7",
            "placeholder": "​",
            "style": "IPY_MODEL_8627cb8f929d4b70bd71583a03bb6f10",
            "value": " 2477321/2477321 [00:26&lt;00:00, 112161.94 examples/s]"
          }
        },
        "d7b3387da3b0408dad225b97f0849def": {
          "model_module": "@jupyter-widgets/base",
          "model_name": "LayoutModel",
          "model_module_version": "1.2.0",
          "state": {
            "_model_module": "@jupyter-widgets/base",
            "_model_module_version": "1.2.0",
            "_model_name": "LayoutModel",
            "_view_count": null,
            "_view_module": "@jupyter-widgets/base",
            "_view_module_version": "1.2.0",
            "_view_name": "LayoutView",
            "align_content": null,
            "align_items": null,
            "align_self": null,
            "border": null,
            "bottom": null,
            "display": null,
            "flex": null,
            "flex_flow": null,
            "grid_area": null,
            "grid_auto_columns": null,
            "grid_auto_flow": null,
            "grid_auto_rows": null,
            "grid_column": null,
            "grid_gap": null,
            "grid_row": null,
            "grid_template_areas": null,
            "grid_template_columns": null,
            "grid_template_rows": null,
            "height": null,
            "justify_content": null,
            "justify_items": null,
            "left": null,
            "margin": null,
            "max_height": null,
            "max_width": null,
            "min_height": null,
            "min_width": null,
            "object_fit": null,
            "object_position": null,
            "order": null,
            "overflow": null,
            "overflow_x": null,
            "overflow_y": null,
            "padding": null,
            "right": null,
            "top": null,
            "visibility": null,
            "width": null
          }
        },
        "7f46b4c89bdf4c979765e222b2f4c1de": {
          "model_module": "@jupyter-widgets/base",
          "model_name": "LayoutModel",
          "model_module_version": "1.2.0",
          "state": {
            "_model_module": "@jupyter-widgets/base",
            "_model_module_version": "1.2.0",
            "_model_name": "LayoutModel",
            "_view_count": null,
            "_view_module": "@jupyter-widgets/base",
            "_view_module_version": "1.2.0",
            "_view_name": "LayoutView",
            "align_content": null,
            "align_items": null,
            "align_self": null,
            "border": null,
            "bottom": null,
            "display": null,
            "flex": null,
            "flex_flow": null,
            "grid_area": null,
            "grid_auto_columns": null,
            "grid_auto_flow": null,
            "grid_auto_rows": null,
            "grid_column": null,
            "grid_gap": null,
            "grid_row": null,
            "grid_template_areas": null,
            "grid_template_columns": null,
            "grid_template_rows": null,
            "height": null,
            "justify_content": null,
            "justify_items": null,
            "left": null,
            "margin": null,
            "max_height": null,
            "max_width": null,
            "min_height": null,
            "min_width": null,
            "object_fit": null,
            "object_position": null,
            "order": null,
            "overflow": null,
            "overflow_x": null,
            "overflow_y": null,
            "padding": null,
            "right": null,
            "top": null,
            "visibility": null,
            "width": null
          }
        },
        "05d5e5e6c657474288c19d3a6ed4c94e": {
          "model_module": "@jupyter-widgets/controls",
          "model_name": "DescriptionStyleModel",
          "model_module_version": "1.5.0",
          "state": {
            "_model_module": "@jupyter-widgets/controls",
            "_model_module_version": "1.5.0",
            "_model_name": "DescriptionStyleModel",
            "_view_count": null,
            "_view_module": "@jupyter-widgets/base",
            "_view_module_version": "1.2.0",
            "_view_name": "StyleView",
            "description_width": ""
          }
        },
        "252c19d7816f4d038fa274979cef66fb": {
          "model_module": "@jupyter-widgets/base",
          "model_name": "LayoutModel",
          "model_module_version": "1.2.0",
          "state": {
            "_model_module": "@jupyter-widgets/base",
            "_model_module_version": "1.2.0",
            "_model_name": "LayoutModel",
            "_view_count": null,
            "_view_module": "@jupyter-widgets/base",
            "_view_module_version": "1.2.0",
            "_view_name": "LayoutView",
            "align_content": null,
            "align_items": null,
            "align_self": null,
            "border": null,
            "bottom": null,
            "display": null,
            "flex": null,
            "flex_flow": null,
            "grid_area": null,
            "grid_auto_columns": null,
            "grid_auto_flow": null,
            "grid_auto_rows": null,
            "grid_column": null,
            "grid_gap": null,
            "grid_row": null,
            "grid_template_areas": null,
            "grid_template_columns": null,
            "grid_template_rows": null,
            "height": null,
            "justify_content": null,
            "justify_items": null,
            "left": null,
            "margin": null,
            "max_height": null,
            "max_width": null,
            "min_height": null,
            "min_width": null,
            "object_fit": null,
            "object_position": null,
            "order": null,
            "overflow": null,
            "overflow_x": null,
            "overflow_y": null,
            "padding": null,
            "right": null,
            "top": null,
            "visibility": null,
            "width": null
          }
        },
        "3f996f6ce3864b2297b00b64e32d3485": {
          "model_module": "@jupyter-widgets/controls",
          "model_name": "ProgressStyleModel",
          "model_module_version": "1.5.0",
          "state": {
            "_model_module": "@jupyter-widgets/controls",
            "_model_module_version": "1.5.0",
            "_model_name": "ProgressStyleModel",
            "_view_count": null,
            "_view_module": "@jupyter-widgets/base",
            "_view_module_version": "1.2.0",
            "_view_name": "StyleView",
            "bar_color": null,
            "description_width": ""
          }
        },
        "f7b7982cf1be4bc098feb39c1465ccc7": {
          "model_module": "@jupyter-widgets/base",
          "model_name": "LayoutModel",
          "model_module_version": "1.2.0",
          "state": {
            "_model_module": "@jupyter-widgets/base",
            "_model_module_version": "1.2.0",
            "_model_name": "LayoutModel",
            "_view_count": null,
            "_view_module": "@jupyter-widgets/base",
            "_view_module_version": "1.2.0",
            "_view_name": "LayoutView",
            "align_content": null,
            "align_items": null,
            "align_self": null,
            "border": null,
            "bottom": null,
            "display": null,
            "flex": null,
            "flex_flow": null,
            "grid_area": null,
            "grid_auto_columns": null,
            "grid_auto_flow": null,
            "grid_auto_rows": null,
            "grid_column": null,
            "grid_gap": null,
            "grid_row": null,
            "grid_template_areas": null,
            "grid_template_columns": null,
            "grid_template_rows": null,
            "height": null,
            "justify_content": null,
            "justify_items": null,
            "left": null,
            "margin": null,
            "max_height": null,
            "max_width": null,
            "min_height": null,
            "min_width": null,
            "object_fit": null,
            "object_position": null,
            "order": null,
            "overflow": null,
            "overflow_x": null,
            "overflow_y": null,
            "padding": null,
            "right": null,
            "top": null,
            "visibility": null,
            "width": null
          }
        },
        "8627cb8f929d4b70bd71583a03bb6f10": {
          "model_module": "@jupyter-widgets/controls",
          "model_name": "DescriptionStyleModel",
          "model_module_version": "1.5.0",
          "state": {
            "_model_module": "@jupyter-widgets/controls",
            "_model_module_version": "1.5.0",
            "_model_name": "DescriptionStyleModel",
            "_view_count": null,
            "_view_module": "@jupyter-widgets/base",
            "_view_module_version": "1.2.0",
            "_view_name": "StyleView",
            "description_width": ""
          }
        }
      }
    }
  },
  "cells": [
    {
      "cell_type": "markdown",
      "metadata": {
        "id": "view-in-github",
        "colab_type": "text"
      },
      "source": [
        "<a href=\"https://colab.research.google.com/github/Bobr48/Transformer/blob/main/Copy_of_38_3_%D0%94%D0%BE%D0%BC%D0%B0%D1%88%D0%BD%D1%8F%D1%8F_%D1%80%D0%B0%D0%B1%D0%BE%D1%82%D0%B0.ipynb\" target=\"_parent\"><img src=\"https://colab.research.google.com/assets/colab-badge.svg\" alt=\"Open In Colab\"/></a>"
      ]
    },
    {
      "cell_type": "markdown",
      "source": [
        "**Навигация по уроку**\n",
        "1. [Трансформеры](https://colab.research.google.com/drive/1nVnLesLUsqaO3rQP44cfMumoB7m9DDUl)\n",
        "2. [Португальско-английский переводчик на трансформере](https://colab.research.google.com/drive/1n11KroRJHEWHNRAXJFnCv7XZyLJWmf_b)\n",
        "3. Домашняя работа"
      ],
      "metadata": {
        "id": "x-sUFQ3W2weh"
      }
    },
    {
      "cell_type": "markdown",
      "source": [
        "В домашней работе вам необходимо выполнить одно из трёх заданий на выбор:"
      ],
      "metadata": {
        "id": "o90z4rVi27PY"
      }
    },
    {
      "cell_type": "markdown",
      "source": [
        "**Задание 1. На 3 балла:**"
      ],
      "metadata": {
        "id": "ywKQCRvE3HDy"
      }
    },
    {
      "cell_type": "markdown",
      "source": [
        "Создайте переводчик с одного языка на другой, отличные от тех, что использовались в уроке. Сравните результаты переводов для 4-х, 6-и и 8-и голов (`num_heads`), при одинаковых прочих параметрах. Сделайте выводы письменно в колабе."
      ],
      "metadata": {
        "id": "E-zvlfXG3LAN"
      }
    },
    {
      "cell_type": "markdown",
      "source": [
        "**Задание 2. На 4 балла:**"
      ],
      "metadata": {
        "id": "QAFFbzB23LZb"
      }
    },
    {
      "cell_type": "markdown",
      "source": [
        "Постройте трансформер для задачи `question answering`. Трансформер должен работать по принципу чат-бота: принимать на вход вопрос, и генерировать ответ на этот вопрос. В качестве датасета используйте `web_questions` из tensorflow_datasets.\n",
        "\n",
        "Меняя гиперпараметры, добейтесь адекватного качества ответов."
      ],
      "metadata": {
        "id": "FGk310JC3yIU"
      }
    },
    {
      "cell_type": "markdown",
      "source": [],
      "metadata": {
        "id": "l3ndeLjVSUrD"
      }
    },
    {
      "cell_type": "markdown",
      "source": [
        "**Задание 3. На 5 баллов:**"
      ],
      "metadata": {
        "id": "w9pv3ue83Pxn"
      }
    },
    {
      "cell_type": "markdown",
      "source": [
        "Постройте трансформер для задачи `question answering`. Трансформер должен работать по принципу чат-бота: принимать на вход вопрос, и генерировать ответ на этот вопрос.\n",
        "\n",
        "В качестве датасета необходимо использовать русско-язычный диалог от Денчика с HuggingFace:\n",
        "\n",
        "```python\n",
        "dataset = load_dataset('Den4ikAI/russian_dialogues', split='train', )\n",
        "```\n",
        "\n",
        "Меняя гиперпараметры, добейтесь адекватного качества ответов.\n",
        "\n",
        "На 5 баллов задание выполняется самостоятельно без помощи куратора!"
      ],
      "metadata": {
        "id": "Yb_0Yw-865b4"
      }
    },
    {
      "cell_type": "code",
      "source": [
        "# Установим свежую версию TensorFlow для поддержки слоя `tf.keras.layers.MultiHeadAttention`.\n",
        "!apt install --allow-change-held-packages libcudnn8=8.1.0.77-1+cuda11.2\n",
        "!pip uninstall -y -q tensorflow keras tensorflow-estimator tensorflow-text\n",
        "!pip install protobuf~=3.20.3\n",
        "!pip install -q tensorflow_datasets\n",
        "!pip install -q -U tensorflow-text tensorflow\n",
        "!pip install datasets\n"
      ],
      "metadata": {
        "colab": {
          "base_uri": "https://localhost:8080/",
          "height": 1000
        },
        "id": "9JNRWiS8Ukx6",
        "outputId": "28b116a7-c1fd-47ba-da10-cefaa3dce800"
      },
      "execution_count": null,
      "outputs": [
        {
          "output_type": "stream",
          "name": "stdout",
          "text": [
            "Reading package lists... Done\n",
            "Building dependency tree... Done\n",
            "Reading state information... Done\n",
            "Package libcudnn8 is not available, but is referred to by another package.\n",
            "This may mean that the package is missing, has been obsoleted, or\n",
            "is only available from another source\n",
            "\n",
            "\u001b[1;31mE: \u001b[0mVersion '8.1.0.77-1+cuda11.2' for 'libcudnn8' was not found\u001b[0m\n",
            "\u001b[33mWARNING: Skipping tensorflow-estimator as it is not installed.\u001b[0m\u001b[33m\n",
            "\u001b[0m\u001b[33mWARNING: Skipping tensorflow-text as it is not installed.\u001b[0m\u001b[33m\n",
            "\u001b[0mCollecting protobuf~=3.20.3\n",
            "  Downloading protobuf-3.20.3-cp310-cp310-manylinux_2_12_x86_64.manylinux2010_x86_64.whl.metadata (679 bytes)\n",
            "Downloading protobuf-3.20.3-cp310-cp310-manylinux_2_12_x86_64.manylinux2010_x86_64.whl (1.1 MB)\n",
            "\u001b[2K   \u001b[90m━━━━━━━━━━━━━━━━━━━━━━━━━━━━━━━━━━━━━━━━\u001b[0m \u001b[32m1.1/1.1 MB\u001b[0m \u001b[31m11.3 MB/s\u001b[0m eta \u001b[36m0:00:00\u001b[0m\n",
            "\u001b[?25hInstalling collected packages: protobuf\n",
            "  Attempting uninstall: protobuf\n",
            "    Found existing installation: protobuf 4.25.5\n",
            "    Uninstalling protobuf-4.25.5:\n",
            "      Successfully uninstalled protobuf-4.25.5\n",
            "\u001b[31mERROR: pip's dependency resolver does not currently take into account all the packages that are installed. This behaviour is the source of the following dependency conflicts.\n",
            "grpcio-status 1.62.3 requires protobuf>=4.21.6, but you have protobuf 3.20.3 which is incompatible.\u001b[0m\u001b[31m\n",
            "\u001b[0mSuccessfully installed protobuf-3.20.3\n"
          ]
        },
        {
          "output_type": "display_data",
          "data": {
            "application/vnd.colab-display-data+json": {
              "pip_warning": {
                "packages": [
                  "google"
                ]
              },
              "id": "375dc5504ba847698cce03f287c322f2"
            }
          },
          "metadata": {}
        },
        {
          "output_type": "stream",
          "name": "stdout",
          "text": [
            "\u001b[2K   \u001b[90m━━━━━━━━━━━━━━━━━━━━━━━━━━━━━━━━━━━━━━━━\u001b[0m \u001b[32m5.2/5.2 MB\u001b[0m \u001b[31m39.6 MB/s\u001b[0m eta \u001b[36m0:00:00\u001b[0m\n",
            "\u001b[2K   \u001b[90m━━━━━━━━━━━━━━━━━━━━━━━━━━━━━━━━━━━━━━━━\u001b[0m \u001b[32m615.3/615.3 MB\u001b[0m \u001b[31m2.5 MB/s\u001b[0m eta \u001b[36m0:00:00\u001b[0m\n",
            "\u001b[2K   \u001b[90m━━━━━━━━━━━━━━━━━━━━━━━━━━━━━━━━━━━━━━━━\u001b[0m \u001b[32m1.3/1.3 MB\u001b[0m \u001b[31m48.2 MB/s\u001b[0m eta \u001b[36m0:00:00\u001b[0m\n",
            "\u001b[2K   \u001b[90m━━━━━━━━━━━━━━━━━━━━━━━━━━━━━━━━━━━━━━━━\u001b[0m \u001b[32m5.5/5.5 MB\u001b[0m \u001b[31m73.5 MB/s\u001b[0m eta \u001b[36m0:00:00\u001b[0m\n",
            "\u001b[?25h\u001b[31mERROR: pip's dependency resolver does not currently take into account all the packages that are installed. This behaviour is the source of the following dependency conflicts.\n",
            "tf-keras 2.17.0 requires tensorflow<2.18,>=2.17, but you have tensorflow 2.18.0 which is incompatible.\u001b[0m\u001b[31m\n",
            "\u001b[0mCollecting datasets\n",
            "  Downloading datasets-3.2.0-py3-none-any.whl.metadata (20 kB)\n",
            "Requirement already satisfied: filelock in /usr/local/lib/python3.10/dist-packages (from datasets) (3.16.1)\n",
            "Requirement already satisfied: numpy>=1.17 in /usr/local/lib/python3.10/dist-packages (from datasets) (1.26.4)\n",
            "Requirement already satisfied: pyarrow>=15.0.0 in /usr/local/lib/python3.10/dist-packages (from datasets) (17.0.0)\n",
            "Collecting dill<0.3.9,>=0.3.0 (from datasets)\n",
            "  Downloading dill-0.3.8-py3-none-any.whl.metadata (10 kB)\n",
            "Requirement already satisfied: pandas in /usr/local/lib/python3.10/dist-packages (from datasets) (2.2.2)\n",
            "Requirement already satisfied: requests>=2.32.2 in /usr/local/lib/python3.10/dist-packages (from datasets) (2.32.3)\n",
            "Requirement already satisfied: tqdm>=4.66.3 in /usr/local/lib/python3.10/dist-packages (from datasets) (4.67.1)\n",
            "Collecting xxhash (from datasets)\n",
            "  Downloading xxhash-3.5.0-cp310-cp310-manylinux_2_17_x86_64.manylinux2014_x86_64.whl.metadata (12 kB)\n",
            "Collecting multiprocess<0.70.17 (from datasets)\n",
            "  Downloading multiprocess-0.70.16-py310-none-any.whl.metadata (7.2 kB)\n",
            "Collecting fsspec<=2024.9.0,>=2023.1.0 (from fsspec[http]<=2024.9.0,>=2023.1.0->datasets)\n",
            "  Downloading fsspec-2024.9.0-py3-none-any.whl.metadata (11 kB)\n",
            "Requirement already satisfied: aiohttp in /usr/local/lib/python3.10/dist-packages (from datasets) (3.11.11)\n",
            "Requirement already satisfied: huggingface-hub>=0.23.0 in /usr/local/lib/python3.10/dist-packages (from datasets) (0.27.1)\n",
            "Requirement already satisfied: packaging in /usr/local/lib/python3.10/dist-packages (from datasets) (24.2)\n",
            "Requirement already satisfied: pyyaml>=5.1 in /usr/local/lib/python3.10/dist-packages (from datasets) (6.0.2)\n",
            "Requirement already satisfied: aiohappyeyeballs>=2.3.0 in /usr/local/lib/python3.10/dist-packages (from aiohttp->datasets) (2.4.4)\n",
            "Requirement already satisfied: aiosignal>=1.1.2 in /usr/local/lib/python3.10/dist-packages (from aiohttp->datasets) (1.3.2)\n",
            "Requirement already satisfied: async-timeout<6.0,>=4.0 in /usr/local/lib/python3.10/dist-packages (from aiohttp->datasets) (4.0.3)\n",
            "Requirement already satisfied: attrs>=17.3.0 in /usr/local/lib/python3.10/dist-packages (from aiohttp->datasets) (24.3.0)\n",
            "Requirement already satisfied: frozenlist>=1.1.1 in /usr/local/lib/python3.10/dist-packages (from aiohttp->datasets) (1.5.0)\n",
            "Requirement already satisfied: multidict<7.0,>=4.5 in /usr/local/lib/python3.10/dist-packages (from aiohttp->datasets) (6.1.0)\n",
            "Requirement already satisfied: propcache>=0.2.0 in /usr/local/lib/python3.10/dist-packages (from aiohttp->datasets) (0.2.1)\n",
            "Requirement already satisfied: yarl<2.0,>=1.17.0 in /usr/local/lib/python3.10/dist-packages (from aiohttp->datasets) (1.18.3)\n",
            "Requirement already satisfied: typing-extensions>=3.7.4.3 in /usr/local/lib/python3.10/dist-packages (from huggingface-hub>=0.23.0->datasets) (4.12.2)\n",
            "Requirement already satisfied: charset-normalizer<4,>=2 in /usr/local/lib/python3.10/dist-packages (from requests>=2.32.2->datasets) (3.4.1)\n",
            "Requirement already satisfied: idna<4,>=2.5 in /usr/local/lib/python3.10/dist-packages (from requests>=2.32.2->datasets) (3.10)\n",
            "Requirement already satisfied: urllib3<3,>=1.21.1 in /usr/local/lib/python3.10/dist-packages (from requests>=2.32.2->datasets) (2.3.0)\n",
            "Requirement already satisfied: certifi>=2017.4.17 in /usr/local/lib/python3.10/dist-packages (from requests>=2.32.2->datasets) (2024.12.14)\n",
            "Requirement already satisfied: python-dateutil>=2.8.2 in /usr/local/lib/python3.10/dist-packages (from pandas->datasets) (2.8.2)\n",
            "Requirement already satisfied: pytz>=2020.1 in /usr/local/lib/python3.10/dist-packages (from pandas->datasets) (2024.2)\n",
            "Requirement already satisfied: tzdata>=2022.7 in /usr/local/lib/python3.10/dist-packages (from pandas->datasets) (2024.2)\n",
            "Requirement already satisfied: six>=1.5 in /usr/local/lib/python3.10/dist-packages (from python-dateutil>=2.8.2->pandas->datasets) (1.17.0)\n",
            "Downloading datasets-3.2.0-py3-none-any.whl (480 kB)\n",
            "\u001b[2K   \u001b[90m━━━━━━━━━━━━━━━━━━━━━━━━━━━━━━━━━━━━━━━━\u001b[0m \u001b[32m480.6/480.6 kB\u001b[0m \u001b[31m8.7 MB/s\u001b[0m eta \u001b[36m0:00:00\u001b[0m\n",
            "\u001b[?25hDownloading dill-0.3.8-py3-none-any.whl (116 kB)\n",
            "\u001b[2K   \u001b[90m━━━━━━━━━━━━━━━━━━━━━━━━━━━━━━━━━━━━━━━━\u001b[0m \u001b[32m116.3/116.3 kB\u001b[0m \u001b[31m8.5 MB/s\u001b[0m eta \u001b[36m0:00:00\u001b[0m\n",
            "\u001b[?25hDownloading fsspec-2024.9.0-py3-none-any.whl (179 kB)\n",
            "\u001b[2K   \u001b[90m━━━━━━━━━━━━━━━━━━━━━━━━━━━━━━━━━━━━━━━━\u001b[0m \u001b[32m179.3/179.3 kB\u001b[0m \u001b[31m13.4 MB/s\u001b[0m eta \u001b[36m0:00:00\u001b[0m\n",
            "\u001b[?25hDownloading multiprocess-0.70.16-py310-none-any.whl (134 kB)\n",
            "\u001b[2K   \u001b[90m━━━━━━━━━━━━━━━━━━━━━━━━━━━━━━━━━━━━━━━━\u001b[0m \u001b[32m134.8/134.8 kB\u001b[0m \u001b[31m11.0 MB/s\u001b[0m eta \u001b[36m0:00:00\u001b[0m\n",
            "\u001b[?25hDownloading xxhash-3.5.0-cp310-cp310-manylinux_2_17_x86_64.manylinux2014_x86_64.whl (194 kB)\n",
            "\u001b[2K   \u001b[90m━━━━━━━━━━━━━━━━━━━━━━━━━━━━━━━━━━━━━━━━\u001b[0m \u001b[32m194.1/194.1 kB\u001b[0m \u001b[31m15.1 MB/s\u001b[0m eta \u001b[36m0:00:00\u001b[0m\n",
            "\u001b[?25hInstalling collected packages: xxhash, fsspec, dill, multiprocess, datasets\n",
            "  Attempting uninstall: fsspec\n",
            "    Found existing installation: fsspec 2024.10.0\n",
            "    Uninstalling fsspec-2024.10.0:\n",
            "      Successfully uninstalled fsspec-2024.10.0\n",
            "\u001b[31mERROR: pip's dependency resolver does not currently take into account all the packages that are installed. This behaviour is the source of the following dependency conflicts.\n",
            "gcsfs 2024.10.0 requires fsspec==2024.10.0, but you have fsspec 2024.9.0 which is incompatible.\u001b[0m\u001b[31m\n",
            "\u001b[0mSuccessfully installed datasets-3.2.0 dill-0.3.8 fsspec-2024.9.0 multiprocess-0.70.16 xxhash-3.5.0\n"
          ]
        }
      ]
    },
    {
      "cell_type": "code",
      "source": [
        "# Логирование для отладки\n",
        "import logging\n",
        "from datasets import load_dataset\n",
        "# Замеры времени выполнения\n",
        "import time\n",
        "\n",
        "# Линейная алгебра\n",
        "import numpy as np\n",
        "\n",
        "# Вывод графиков\n",
        "import matplotlib.pyplot as plt\n",
        "\n",
        "# Фреймворк Tensorflow\n",
        "import tensorflow_datasets as tfds\n",
        "import tensorflow as tf\n",
        "\n",
        "import tensorflow_text as text\n",
        "# Регулярные выражения\n",
        "import re\n",
        "\n",
        "# Файловая система\n",
        "import pathlib\n",
        "\n",
        "# Токенизатор\n",
        "from tensorflow_text.tools.wordpiece_vocab import bert_vocab_from_dataset as bert_vocab\n",
        "\n",
        "# Отключим мешаюшие предупреждения\n",
        "import warnings\n",
        "warnings.filterwarnings(\"ignore\")"
      ],
      "metadata": {
        "id": "QBuGhdUqUmhy"
      },
      "execution_count": null,
      "outputs": []
    },
    {
      "cell_type": "markdown",
      "source": [
        "num_layers = 3\n",
        "\n",
        "d_model = 256\n",
        "\n",
        "dff = 512\n",
        "\n",
        "num_heads = 8\n",
        "\n",
        "dropout_rate = 0.25\n",
        "\n",
        "EPOCHS = 10\n",
        "\n",
        "DS_SIZE = 10000\n",
        "\n",
        "# Размер буфера в памяти при подготовке датасета\n",
        "BUFFER_SIZE = 20000\n",
        "\n",
        "# Размер пакета\n",
        "BATCH_SIZE = 128"
      ],
      "metadata": {
        "id": "Dqqh0KCxXOAO"
      }
    },
    {
      "cell_type": "code",
      "source": [
        "num_layers = 3\n",
        "d_model = 256\n",
        "dff = 512   #512\n",
        "num_heads = 6 #8\n",
        "dropout_rate = 0.2\n",
        "\n",
        "EPOCHS = 10\n",
        "\n",
        "DS_SIZE = 7000\n",
        "\n",
        "# Размер буфера в памяти при подготовке датасета\n",
        "BUFFER_SIZE = 20000\n",
        "\n",
        "# Размер пакета\n",
        "BATCH_SIZE = 128"
      ],
      "metadata": {
        "id": "4gKm6lbbzkrI"
      },
      "execution_count": null,
      "outputs": []
    },
    {
      "cell_type": "code",
      "source": [
        "dataset = load_dataset('Den4ikAI/russian_dialogues', split='train', )"
      ],
      "metadata": {
        "id": "roX1NcbFy_c5",
        "colab": {
          "base_uri": "https://localhost:8080/",
          "height": 113,
          "referenced_widgets": [
            "610ec94ebe6444818ea63cd973bb221b",
            "20feb13e8c62497ead6fc12b1b821ec6",
            "d2a39714ed1d48818715dc92f30744b1",
            "76f41dbbc04d4a3d9276323d33cf7e94",
            "e8b8ed4db9054856b100d50c71cce537",
            "debb7381dfe049299ffdec0040943826",
            "324acd8e1b1c4ba1a7151fdcd95db1ef",
            "e519ccf1892b45109138140bd0c7f694",
            "1f96600521c1465ab919ea775139db85",
            "7e805210e7774827914a4c8751586287",
            "0fcdbf0c75864fa1b91e7cafb2975b7c",
            "a0a3ce45e2bc4d7ca66c30d72029ef51",
            "03c323dc935749f995000e14b9cd9879",
            "e38f326dc0214f6aaafe328fd5f157e3",
            "ecb9a85f92824f42b341e5a9f469c032",
            "fc0992d1ce5847a0ad1493ba8d21bc6d",
            "aeca6a08fe1845f195518eff3c84147e",
            "b1de54c3b5ae4c7284c3168e2fd8c8fa",
            "a6a379248fae4102a3d03b68d27b2afa",
            "e21636c3f1ac444fb94fee60f1b9f9c9",
            "42e10a5d2406447d899237872cef5274",
            "b828f269535945c093e786f9448a469a",
            "dad3cf07990b4184b46bb551712e5b69",
            "26980b2c08d74f8183f25390db13503b",
            "4135c0ca533e41e2ab55c7ce56588f9a",
            "910650ee8c85487f9b218d99a1b2b2ae",
            "d7b3387da3b0408dad225b97f0849def",
            "7f46b4c89bdf4c979765e222b2f4c1de",
            "05d5e5e6c657474288c19d3a6ed4c94e",
            "252c19d7816f4d038fa274979cef66fb",
            "3f996f6ce3864b2297b00b64e32d3485",
            "f7b7982cf1be4bc098feb39c1465ccc7",
            "8627cb8f929d4b70bd71583a03bb6f10"
          ]
        },
        "outputId": "34731f56-37d8-4e2f-c18c-ab1cf37cd835"
      },
      "execution_count": null,
      "outputs": [
        {
          "output_type": "display_data",
          "data": {
            "text/plain": [
              "README.md:   0%|          | 0.00/951 [00:00<?, ?B/s]"
            ],
            "application/vnd.jupyter.widget-view+json": {
              "version_major": 2,
              "version_minor": 0,
              "model_id": "610ec94ebe6444818ea63cd973bb221b"
            }
          },
          "metadata": {}
        },
        {
          "output_type": "display_data",
          "data": {
            "text/plain": [
              "dataset.jsonl:   0%|          | 0.00/1.42G [00:00<?, ?B/s]"
            ],
            "application/vnd.jupyter.widget-view+json": {
              "version_major": 2,
              "version_minor": 0,
              "model_id": "a0a3ce45e2bc4d7ca66c30d72029ef51"
            }
          },
          "metadata": {}
        },
        {
          "output_type": "display_data",
          "data": {
            "text/plain": [
              "Generating train split:   0%|          | 0/2477321 [00:00<?, ? examples/s]"
            ],
            "application/vnd.jupyter.widget-view+json": {
              "version_major": 2,
              "version_minor": 0,
              "model_id": "dad3cf07990b4184b46bb551712e5b69"
            }
          },
          "metadata": {}
        }
      ]
    },
    {
      "cell_type": "code",
      "source": [
        "print(dataset)"
      ],
      "metadata": {
        "colab": {
          "base_uri": "https://localhost:8080/"
        },
        "id": "S7yTHl75VHL-",
        "outputId": "d5ad3d73-4145-45dc-e740-bed00f128919"
      },
      "execution_count": null,
      "outputs": [
        {
          "output_type": "stream",
          "name": "stdout",
          "text": [
            "Dataset({\n",
            "    features: ['question', 'answer', 'relevance'],\n",
            "    num_rows: 2477321\n",
            "})\n"
          ]
        }
      ]
    },
    {
      "cell_type": "code",
      "source": [
        "dataset = filter(lambda x : x['question'] != None and x['answer']!= None and x['relevance'] == 1, dataset)"
      ],
      "metadata": {
        "id": "IsVnLZ6aY_EB"
      },
      "execution_count": null,
      "outputs": []
    },
    {
      "cell_type": "code",
      "source": [
        "questions, answers = [], []\n",
        "questions_val, answers_val = [], []\n",
        "data_val, data_train = [], []\n",
        "c=0\n",
        "for i in dataset:\n",
        "  c+=1\n",
        "  if c % 50 == 0:\n",
        "    #data_val.append((tf.constant(i['question']), tf.constant(i['answer'])))\n",
        "    questions_val.append(tf.constant(i['question']))\n",
        "    answers_val.append(tf.constant(i['answer']))\n",
        "  else:\n",
        "    #data_train((tf.constant(i['question']), tf.constant(i['answer'])))\n",
        "    questions.append(tf.constant(i['question']))\n",
        "    answers.append(tf.constant(i['answer']))\n",
        "  if c == DS_SIZE:\n",
        "    break\n",
        "\n",
        "print(len(questions), len(answers))\n",
        "print(len(questions_val), len(answers_val))"
      ],
      "metadata": {
        "colab": {
          "base_uri": "https://localhost:8080/"
        },
        "id": "H4UBMDIDmGE_",
        "outputId": "3ee040d7-f8c8-47ea-d98a-22702c508d50"
      },
      "execution_count": null,
      "outputs": [
        {
          "output_type": "stream",
          "name": "stdout",
          "text": [
            "6860 6860\n",
            "140 140\n"
          ]
        }
      ]
    },
    {
      "cell_type": "code",
      "source": [
        "dataset = None\n",
        "data_val = tf.data.Dataset.from_tensor_slices((questions_val, answers_val))\n",
        "data_train = tf.data.Dataset.from_tensor_slices((questions, answers))\n"
      ],
      "metadata": {
        "id": "IUkiIXEuzsY6"
      },
      "execution_count": null,
      "outputs": []
    },
    {
      "cell_type": "markdown",
      "source": [],
      "metadata": {
        "id": "7AyOif3u1gZq"
      }
    },
    {
      "cell_type": "code",
      "source": [
        "VOCAB_SIZE = 8000\n",
        "# Параметры токенизатора (lower_case - приводим к нижнему регистру)\n",
        "bert_tokenizer_params=dict(lower_case=True)\n",
        "\n",
        "# Определяем токены, с которыми работает токенизатор\n",
        "# [START] - начало строки\n",
        "# [END]   - конец строки\n",
        "# [UNK]   - неизвестное слово\n",
        "# [PAD]   - используется для выравнивания длин всех предложений\n",
        "reserved_tokens=[\"[PAD]\", \"[UNK]\", \"[START]\", \"[END]\"]\n",
        "\n",
        "bert_vocab_args = dict(\n",
        "    # Желаемый размер словаря\n",
        "    vocab_size = VOCAB_SIZE,\n",
        "    # Токены включаемые в словарь\n",
        "    reserved_tokens=reserved_tokens,\n",
        "    # Аргументы для `text.BertTokenizer`\n",
        "    bert_tokenizer_params=bert_tokenizer_params,\n",
        "    # Аргументы для `wordpiece_vocab.wordpiece_tokenizer_learner_lib.learn`\n",
        "    learn_params={}, # не используем, но определяем чтобы не было ошибок\n",
        ")"
      ],
      "metadata": {
        "id": "MDycyIPJUtPy"
      },
      "execution_count": null,
      "outputs": []
    },
    {
      "cell_type": "code",
      "source": [
        "#train_en = answers\n",
        "train_pt = questions + answers\n",
        "train_pt = tf.data.Dataset.from_tensor_slices(train_pt)"
      ],
      "metadata": {
        "id": "WZvQ6wBbUurK"
      },
      "execution_count": null,
      "outputs": []
    },
    {
      "cell_type": "code",
      "source": [
        "%%time\n",
        "#pt_vocab\n",
        "vocab = bert_vocab.bert_vocab_from_dataset(\n",
        "    train_pt.batch(1000).prefetch(2),\n",
        "    **bert_vocab_args\n",
        ")"
      ],
      "metadata": {
        "colab": {
          "base_uri": "https://localhost:8080/"
        },
        "id": "qw_X42DiU6fa",
        "outputId": "e03f5858-40c7-4382-fe7b-b211c5d5c2ba"
      },
      "execution_count": null,
      "outputs": [
        {
          "output_type": "stream",
          "name": "stdout",
          "text": [
            "CPU times: user 1min 36s, sys: 458 ms, total: 1min 37s\n",
            "Wall time: 1min 38s\n"
          ]
        }
      ]
    },
    {
      "cell_type": "code",
      "source": [
        "print(vocab[:10])\n",
        "print(vocab[100:110])\n",
        "print(vocab[1000:1010])\n",
        "print(vocab[-10:])"
      ],
      "metadata": {
        "colab": {
          "base_uri": "https://localhost:8080/"
        },
        "id": "tkPXMsKjU7fq",
        "outputId": "36f84ace-8de8-4296-dd4d-45a6b9cdb860"
      },
      "execution_count": null,
      "outputs": [
        {
          "output_type": "stream",
          "name": "stdout",
          "text": [
            "['[PAD]', '[UNK]', '[START]', '[END]', '!', ',', '-', '.', ':', ';']\n",
            "['чем', 'только', '##х', 'будет', 'вас', '##ы', 'бы', 'ну', 'может', '##ю']\n",
            "['##ании', '##внои', '##вое', '##даю', '##дите', '##ею', '##жает', '##зывает', '##кам', '##нать']\n",
            "['##p', '##q', '##r', '##u', '##v', '##w', '##x', '##y', '##z', '##ъ']\n"
          ]
        }
      ]
    },
    {
      "cell_type": "code",
      "source": [
        "def write_vocab_file(filepath, vocab):\n",
        "  with open(filepath, 'w') as f:\n",
        "    for token in vocab:\n",
        "      print(token, file=f)"
      ],
      "metadata": {
        "id": "OQfHkR-OU8p6"
      },
      "execution_count": null,
      "outputs": []
    },
    {
      "cell_type": "code",
      "source": [
        "write_vocab_file('vocab.txt', vocab)"
      ],
      "metadata": {
        "id": "geCJ6IrXU9ya"
      },
      "execution_count": null,
      "outputs": []
    },
    {
      "cell_type": "code",
      "source": [
        "pt_tokenizer = text.BertTokenizer('vocab.txt', **bert_tokenizer_params)\n",
        "en_tokenizer = text.BertTokenizer('vocab.txt', **bert_tokenizer_params)"
      ],
      "metadata": {
        "id": "1UFm7DakVGPp"
      },
      "execution_count": null,
      "outputs": []
    },
    {
      "cell_type": "code",
      "source": [],
      "metadata": {
        "id": "4bwPoJnPsjwA"
      },
      "execution_count": null,
      "outputs": []
    },
    {
      "cell_type": "code",
      "source": [
        "print(data_train.batch(3).take(1))"
      ],
      "metadata": {
        "colab": {
          "base_uri": "https://localhost:8080/"
        },
        "id": "iiRe5hKYwTCj",
        "outputId": "070f6556-a451-4047-af84-89b12c22fe15"
      },
      "execution_count": null,
      "outputs": [
        {
          "output_type": "stream",
          "name": "stdout",
          "text": [
            "<_TakeDataset element_spec=(TensorSpec(shape=(None,), dtype=tf.string, name=None), TensorSpec(shape=(None,), dtype=tf.string, name=None))>\n"
          ]
        }
      ]
    },
    {
      "cell_type": "code",
      "source": [
        "print('Отберем строки для примера:')\n",
        "for pt_examples, en_examples in data_train.batch(3).take(1):\n",
        "  for ex in en_examples:\n",
        "    print(ex.numpy())"
      ],
      "metadata": {
        "colab": {
          "base_uri": "https://localhost:8080/"
        },
        "id": "AUKKHABdVHU6",
        "outputId": "6bc55bbe-1a1a-4193-9f71-a54c06e0dc3e"
      },
      "execution_count": null,
      "outputs": [
        {
          "output_type": "stream",
          "name": "stdout",
          "text": [
            "Отберем строки для примера:\n",
            "b'\\xd1\\x8f \\xd1\\x80\\xd1\\x8f\\xd0\\xb6\\xd0\\xb5\\xd0\\xbd\\xd0\\xba\\xd1\\x83 \\xd0\\xbb\\xd1\\x83\\xd1\\x87\\xd1\\x88\\xd0\\xb5 \\xd0\\xbb\\xd1\\x8e\\xd0\\xb1\\xd0\\xbb\\xd1\\x8e.'\n",
            "b'\\xd0\\xbe\\xd1\\x81\\xd0\\xbe\\xd0\\xb1\\xd0\\xb5\\xd0\\xbd\\xd0\\xbd\\xd0\\xbe \\xd0\\xba\\xd0\\xbe\\xd0\\xb3\\xd0\\xb4\\xd0\\xb0 \\xd0\\xbf\\xd1\\x80\\xd0\\xb8\\xd0\\xb4\\xd0\\xb5\\xd1\\x82 \\xd0\\xba\\xd0\\xbe\\xd0\\xbc\\xd0\\xb8\\xd1\\x81\\xd1\\x81\\xd0\\xb8\\xd1\\x8f \\xd0\\xbf\\xd1\\x80\\xd0\\xbe\\xd0\\xb2\\xd0\\xb5\\xd1\\x80\\xd1\\x8f\\xd1\\x82\\xd1\\x8c \\xd0\\xb4\\xd0\\xbe\\xd0\\xba\\xd1\\x83\\xd0\\xbc\\xd0\\xb5\\xd0\\xbd\\xd1\\x82\\xd0\\xb0\\xd1\\x86\\xd0\\xb8\\xd1\\x8e'\n",
            "b'\\xd0\\xb4\\xd0\\xb0\\xd0\\xb2\\xd0\\xb0\\xd0\\xb9 \\xd0\\xbf\\xd0\\xbe\\xd0\\xb3\\xd0\\xbe\\xd0\\xb2\\xd0\\xbe\\xd1\\x80\\xd0\\xb8\\xd0\\xbc \\xd0\\xbe \\xd1\\x87\\xd0\\xb5\\xd0\\xbc-\\xd0\\xbd\\xd0\\xb8\\xd0\\xb1\\xd1\\x83\\xd0\\xb4\\xd1\\x8c \\xd0\\xb4\\xd1\\x80\\xd1\\x83\\xd0\\xb3\\xd0\\xbe\\xd0\\xbc'\n"
          ]
        }
      ]
    },
    {
      "cell_type": "code",
      "source": [
        "# Токенизируем примеры и получаем тензор формы (batch, word, word-piece)\n",
        "token_batch = en_tokenizer.tokenize(en_examples)\n",
        "# Объединяем оси word и word-piece и получаем тензор формы (batch, tokens)\n",
        "token_batch = token_batch.merge_dims(-2,-1)\n",
        "\n",
        "print('Токенизируем отобранные строки:')\n",
        "for ex in token_batch.to_list():\n",
        "  print(ex)"
      ],
      "metadata": {
        "colab": {
          "base_uri": "https://localhost:8080/"
        },
        "id": "6MZtUwJnVIdq",
        "outputId": "97812b27-156b-4b9e-8257-af9c082c68e2"
      },
      "execution_count": null,
      "outputs": [
        {
          "output_type": "stream",
          "name": "stdout",
          "text": [
            "Токенизируем отобранные строки:\n",
            "[67, 52, 111, 519, 654, 116, 190, 7]\n",
            "[741, 94, 2675, 941, 122, 2499, 278, 285, 2393, 544, 179, 212, 2448, 2126]\n",
            "[780, 85, 2403, 923, 50, 100, 6, 215, 1452]\n"
          ]
        }
      ]
    },
    {
      "cell_type": "code",
      "source": [
        "words = en_tokenizer.detokenize(token_batch)\n",
        "print('Проверим обратное преобразование:')\n",
        "\n",
        "# Объединение полученного тензора в текст, объединяем пробелами\n",
        "print(tf.strings.reduce_join(words, separator=' ', axis=-1))\n"
      ],
      "metadata": {
        "colab": {
          "base_uri": "https://localhost:8080/"
        },
        "id": "Mo0FcJu0VJnc",
        "outputId": "eca955c1-d322-4448-bd84-a25959951db0"
      },
      "execution_count": null,
      "outputs": [
        {
          "output_type": "stream",
          "name": "stdout",
          "text": [
            "Проверим обратное преобразование:\n",
            "tf.Tensor(\n",
            "[b'\\xd1\\x8f \\xd1\\x80\\xd1\\x8f\\xd0\\xb6\\xd0\\xb5\\xd0\\xbd\\xd0\\xba\\xd1\\x83 \\xd0\\xbb\\xd1\\x83\\xd1\\x87\\xd1\\x88\\xd0\\xb5 \\xd0\\xbb\\xd1\\x8e\\xd0\\xb1\\xd0\\xbb\\xd1\\x8e .'\n",
            " b'\\xd0\\xbe\\xd1\\x81\\xd0\\xbe\\xd0\\xb1\\xd0\\xb5\\xd0\\xbd\\xd0\\xbd\\xd0\\xbe \\xd0\\xba\\xd0\\xbe\\xd0\\xb3\\xd0\\xb4\\xd0\\xb0 \\xd0\\xbf\\xd1\\x80\\xd0\\xb8\\xd0\\xb4\\xd0\\xb5\\xd1\\x82 \\xd0\\xba\\xd0\\xbe\\xd0\\xbc\\xd0\\xb8\\xd1\\x81\\xd1\\x81\\xd0\\xb8\\xd1\\x8f \\xd0\\xbf\\xd1\\x80\\xd0\\xbe\\xd0\\xb2\\xd0\\xb5\\xd1\\x80\\xd1\\x8f\\xd1\\x82\\xd1\\x8c \\xd0\\xb4\\xd0\\xbe\\xd0\\xba\\xd1\\x83\\xd0\\xbc\\xd0\\xb5\\xd0\\xbd\\xd1\\x82\\xd0\\xb0\\xd1\\x86\\xd0\\xb8\\xd1\\x8e'\n",
            " b'\\xd0\\xb4\\xd0\\xb0\\xd0\\xb2\\xd0\\xb0\\xd0\\xb8 \\xd0\\xbf\\xd0\\xbe\\xd0\\xb3\\xd0\\xbe\\xd0\\xb2\\xd0\\xbe\\xd1\\x80\\xd0\\xb8\\xd0\\xbc \\xd0\\xbe \\xd1\\x87\\xd0\\xb5\\xd0\\xbc - \\xd0\\xbd\\xd0\\xb8\\xd0\\xb1\\xd1\\x83\\xd0\\xb4\\xd1\\x8c \\xd0\\xb4\\xd1\\x80\\xd1\\x83\\xd0\\xb3\\xd0\\xbe\\xd0\\xbc'], shape=(3,), dtype=string)\n"
          ]
        }
      ]
    },
    {
      "cell_type": "code",
      "source": [
        "lengths = []\n",
        "\n",
        "for pt_examples, en_examples in data_train.batch(1024):\n",
        "  pt_tokens = pt_tokenizer.tokenize(pt_examples)\n",
        "  lengths.append(pt_tokens.row_lengths())\n",
        "\n",
        "  en_tokens = en_tokenizer.tokenize(en_examples)\n",
        "  lengths.append(en_tokens.row_lengths())\n"
      ],
      "metadata": {
        "id": "1BzNbviLVK5i"
      },
      "execution_count": null,
      "outputs": []
    },
    {
      "cell_type": "code",
      "source": [
        "all_lengths = np.concatenate(lengths)\n",
        "\n",
        "plt.hist(all_lengths, np.linspace(0, 500, 101))\n",
        "plt.ylim(plt.ylim())\n",
        "max_length = max(all_lengths)\n",
        "plt.plot([max_length, max_length], plt.ylim())\n",
        "plt.title(f'Максимальное количество токенов в примере: {max_length}');\n",
        "\n"
      ],
      "metadata": {
        "colab": {
          "base_uri": "https://localhost:8080/",
          "height": 452
        },
        "id": "Mq3PZr1uVMJa",
        "outputId": "a997fcbf-582b-49ea-8dd3-415c72859b95"
      },
      "execution_count": null,
      "outputs": [
        {
          "output_type": "display_data",
          "data": {
            "text/plain": [
              "<Figure size 640x480 with 1 Axes>"
            ],
            "image/png": "[encoded data removed]"
          },
          "metadata": {}
        }
      ]
    },
    {
      "cell_type": "code",
      "source": [
        "MAX_TOKENS=64"
      ],
      "metadata": {
        "id": "G9QQodDOVNob"
      },
      "execution_count": null,
      "outputs": []
    },
    {
      "cell_type": "code",
      "source": [
        "START = tf.argmax(tf.constant(reserved_tokens) == \"[START]\")\n",
        "END = tf.argmax(tf.constant(reserved_tokens) == \"[END]\")\n",
        "\n",
        "def add_start_end(ragged):\n",
        "  count = ragged.bounding_shape()[0]\n",
        "  starts = tf.fill([count,1], START)\n",
        "  ends = tf.fill([count,1], END)\n",
        "  return tf.concat([starts, ragged, ends], axis=1)"
      ],
      "metadata": {
        "id": "frZsm0SSVO7a"
      },
      "execution_count": null,
      "outputs": []
    },
    {
      "cell_type": "code",
      "source": [
        "words = en_tokenizer.detokenize(add_start_end(token_batch))\n",
        "tf.strings.reduce_join(words, separator=' ', axis=-1)"
      ],
      "metadata": {
        "colab": {
          "base_uri": "https://localhost:8080/"
        },
        "id": "H6SN4GusVQXa",
        "outputId": "9e6fdd91-b781-4c8b-aedd-7d143b454faa"
      },
      "execution_count": null,
      "outputs": [
        {
          "output_type": "execute_result",
          "data": {
            "text/plain": [
              "<tf.Tensor: shape=(3,), dtype=string, numpy=\n",
              "array([b'[START] \\xd1\\x8f \\xd1\\x80\\xd1\\x8f\\xd0\\xb6\\xd0\\xb5\\xd0\\xbd\\xd0\\xba\\xd1\\x83 \\xd0\\xbb\\xd1\\x83\\xd1\\x87\\xd1\\x88\\xd0\\xb5 \\xd0\\xbb\\xd1\\x8e\\xd0\\xb1\\xd0\\xbb\\xd1\\x8e . [END]',\n",
              "       b'[START] \\xd0\\xbe\\xd1\\x81\\xd0\\xbe\\xd0\\xb1\\xd0\\xb5\\xd0\\xbd\\xd0\\xbd\\xd0\\xbe \\xd0\\xba\\xd0\\xbe\\xd0\\xb3\\xd0\\xb4\\xd0\\xb0 \\xd0\\xbf\\xd1\\x80\\xd0\\xb8\\xd0\\xb4\\xd0\\xb5\\xd1\\x82 \\xd0\\xba\\xd0\\xbe\\xd0\\xbc\\xd0\\xb8\\xd1\\x81\\xd1\\x81\\xd0\\xb8\\xd1\\x8f \\xd0\\xbf\\xd1\\x80\\xd0\\xbe\\xd0\\xb2\\xd0\\xb5\\xd1\\x80\\xd1\\x8f\\xd1\\x82\\xd1\\x8c \\xd0\\xb4\\xd0\\xbe\\xd0\\xba\\xd1\\x83\\xd0\\xbc\\xd0\\xb5\\xd0\\xbd\\xd1\\x82\\xd0\\xb0\\xd1\\x86\\xd0\\xb8\\xd1\\x8e [END]',\n",
              "       b'[START] \\xd0\\xb4\\xd0\\xb0\\xd0\\xb2\\xd0\\xb0\\xd0\\xb8 \\xd0\\xbf\\xd0\\xbe\\xd0\\xb3\\xd0\\xbe\\xd0\\xb2\\xd0\\xbe\\xd1\\x80\\xd0\\xb8\\xd0\\xbc \\xd0\\xbe \\xd1\\x87\\xd0\\xb5\\xd0\\xbc - \\xd0\\xbd\\xd0\\xb8\\xd0\\xb1\\xd1\\x83\\xd0\\xb4\\xd1\\x8c \\xd0\\xb4\\xd1\\x80\\xd1\\x83\\xd0\\xb3\\xd0\\xbe\\xd0\\xbc [END]'],\n",
              "      dtype=object)>"
            ]
          },
          "metadata": {},
          "execution_count": 24
        }
      ]
    },
    {
      "cell_type": "code",
      "source": [
        "def cleanup_text(reserved_tokens, token_txt):\n",
        "  # Удаление токенов, кроме \"[UNK]\".\n",
        "  # Поиск зарезервированных токенов кроме [UNK]\n",
        "  bad_tokens = [re.escape(tok) for tok in reserved_tokens if tok != \"[UNK]\"]\n",
        "  # \"Плохие\" токены для регулярки объединяем знаком ИЛИ (|)\n",
        "  bad_token_re = \"|\".join(bad_tokens)\n",
        "\n",
        "  # Ищем в строке регулярку\n",
        "  bad_cells = tf.strings.regex_full_match(token_txt, bad_token_re)\n",
        "  # Отсеиваем из исходной строки все найденные включения \"плохих\" токенов\n",
        "  result = tf.ragged.boolean_mask(token_txt, ~bad_cells)\n",
        "\n",
        "  # Сцепление строк.\n",
        "  result = tf.strings.reduce_join(result, separator=' ', axis=-1)\n",
        "\n",
        "  return result"
      ],
      "metadata": {
        "id": "mWwL0RrKVRaq"
      },
      "execution_count": null,
      "outputs": []
    },
    {
      "cell_type": "code",
      "source": [
        "print('Отберем строки для примера:')\n",
        "for pt_examples, en_examples in data_train.batch(3).take(1):\n",
        "  for ex in en_examples:\n",
        "    print(ex.numpy())"
      ],
      "metadata": {
        "colab": {
          "base_uri": "https://localhost:8080/"
        },
        "id": "8CJ2vwEhVSuz",
        "outputId": "faf1159f-73b8-4ecb-e028-c1475123d995"
      },
      "execution_count": null,
      "outputs": [
        {
          "output_type": "stream",
          "name": "stdout",
          "text": [
            "Отберем строки для примера:\n",
            "b'\\xd1\\x8f \\xd1\\x80\\xd1\\x8f\\xd0\\xb6\\xd0\\xb5\\xd0\\xbd\\xd0\\xba\\xd1\\x83 \\xd0\\xbb\\xd1\\x83\\xd1\\x87\\xd1\\x88\\xd0\\xb5 \\xd0\\xbb\\xd1\\x8e\\xd0\\xb1\\xd0\\xbb\\xd1\\x8e.'\n",
            "b'\\xd0\\xbe\\xd1\\x81\\xd0\\xbe\\xd0\\xb1\\xd0\\xb5\\xd0\\xbd\\xd0\\xbd\\xd0\\xbe \\xd0\\xba\\xd0\\xbe\\xd0\\xb3\\xd0\\xb4\\xd0\\xb0 \\xd0\\xbf\\xd1\\x80\\xd0\\xb8\\xd0\\xb4\\xd0\\xb5\\xd1\\x82 \\xd0\\xba\\xd0\\xbe\\xd0\\xbc\\xd0\\xb8\\xd1\\x81\\xd1\\x81\\xd0\\xb8\\xd1\\x8f \\xd0\\xbf\\xd1\\x80\\xd0\\xbe\\xd0\\xb2\\xd0\\xb5\\xd1\\x80\\xd1\\x8f\\xd1\\x82\\xd1\\x8c \\xd0\\xb4\\xd0\\xbe\\xd0\\xba\\xd1\\x83\\xd0\\xbc\\xd0\\xb5\\xd0\\xbd\\xd1\\x82\\xd0\\xb0\\xd1\\x86\\xd0\\xb8\\xd1\\x8e'\n",
            "b'\\xd0\\xb4\\xd0\\xb0\\xd0\\xb2\\xd0\\xb0\\xd0\\xb9 \\xd0\\xbf\\xd0\\xbe\\xd0\\xb3\\xd0\\xbe\\xd0\\xb2\\xd0\\xbe\\xd1\\x80\\xd0\\xb8\\xd0\\xbc \\xd0\\xbe \\xd1\\x87\\xd0\\xb5\\xd0\\xbc-\\xd0\\xbd\\xd0\\xb8\\xd0\\xb1\\xd1\\x83\\xd0\\xb4\\xd1\\x8c \\xd0\\xb4\\xd1\\x80\\xd1\\x83\\xd0\\xb3\\xd0\\xbe\\xd0\\xbc'\n"
          ]
        }
      ]
    },
    {
      "cell_type": "code",
      "source": [
        "en_examples.numpy()"
      ],
      "metadata": {
        "colab": {
          "base_uri": "https://localhost:8080/"
        },
        "id": "Y97mobWaVUB6",
        "outputId": "94e99b1b-023d-4aef-d5ed-62bd1ba34d5f"
      },
      "execution_count": null,
      "outputs": [
        {
          "output_type": "execute_result",
          "data": {
            "text/plain": [
              "array([b'\\xd1\\x8f \\xd1\\x80\\xd1\\x8f\\xd0\\xb6\\xd0\\xb5\\xd0\\xbd\\xd0\\xba\\xd1\\x83 \\xd0\\xbb\\xd1\\x83\\xd1\\x87\\xd1\\x88\\xd0\\xb5 \\xd0\\xbb\\xd1\\x8e\\xd0\\xb1\\xd0\\xbb\\xd1\\x8e.',\n",
              "       b'\\xd0\\xbe\\xd1\\x81\\xd0\\xbe\\xd0\\xb1\\xd0\\xb5\\xd0\\xbd\\xd0\\xbd\\xd0\\xbe \\xd0\\xba\\xd0\\xbe\\xd0\\xb3\\xd0\\xb4\\xd0\\xb0 \\xd0\\xbf\\xd1\\x80\\xd0\\xb8\\xd0\\xb4\\xd0\\xb5\\xd1\\x82 \\xd0\\xba\\xd0\\xbe\\xd0\\xbc\\xd0\\xb8\\xd1\\x81\\xd1\\x81\\xd0\\xb8\\xd1\\x8f \\xd0\\xbf\\xd1\\x80\\xd0\\xbe\\xd0\\xb2\\xd0\\xb5\\xd1\\x80\\xd1\\x8f\\xd1\\x82\\xd1\\x8c \\xd0\\xb4\\xd0\\xbe\\xd0\\xba\\xd1\\x83\\xd0\\xbc\\xd0\\xb5\\xd0\\xbd\\xd1\\x82\\xd0\\xb0\\xd1\\x86\\xd0\\xb8\\xd1\\x8e',\n",
              "       b'\\xd0\\xb4\\xd0\\xb0\\xd0\\xb2\\xd0\\xb0\\xd0\\xb9 \\xd0\\xbf\\xd0\\xbe\\xd0\\xb3\\xd0\\xbe\\xd0\\xb2\\xd0\\xbe\\xd1\\x80\\xd0\\xb8\\xd0\\xbc \\xd0\\xbe \\xd1\\x87\\xd0\\xb5\\xd0\\xbc-\\xd0\\xbd\\xd0\\xb8\\xd0\\xb1\\xd1\\x83\\xd0\\xb4\\xd1\\x8c \\xd0\\xb4\\xd1\\x80\\xd1\\x83\\xd0\\xb3\\xd0\\xbe\\xd0\\xbc'],\n",
              "      dtype=object)"
            ]
          },
          "metadata": {},
          "execution_count": 27
        }
      ]
    },
    {
      "cell_type": "code",
      "source": [
        "token_batch = en_tokenizer.tokenize(en_examples).merge_dims(-2,-1)\n",
        "words = en_tokenizer.detokenize(token_batch)\n",
        "words"
      ],
      "metadata": {
        "colab": {
          "base_uri": "https://localhost:8080/"
        },
        "id": "jnQ6ntl_VVcq",
        "outputId": "afec0d8c-9d2f-4744-bc47-0ecffbe14a51"
      },
      "execution_count": null,
      "outputs": [
        {
          "output_type": "execute_result",
          "data": {
            "text/plain": [
              "<tf.RaggedTensor [[b'\\xd1\\x8f', b'\\xd1\\x80\\xd1\\x8f\\xd0\\xb6\\xd0\\xb5\\xd0\\xbd\\xd0\\xba\\xd1\\x83',\n",
              "  b'\\xd0\\xbb\\xd1\\x83\\xd1\\x87\\xd1\\x88\\xd0\\xb5',\n",
              "  b'\\xd0\\xbb\\xd1\\x8e\\xd0\\xb1\\xd0\\xbb\\xd1\\x8e', b'.']                       ,\n",
              " [b'\\xd0\\xbe\\xd1\\x81\\xd0\\xbe\\xd0\\xb1\\xd0\\xb5\\xd0\\xbd\\xd0\\xbd\\xd0\\xbe',\n",
              "  b'\\xd0\\xba\\xd0\\xbe\\xd0\\xb3\\xd0\\xb4\\xd0\\xb0',\n",
              "  b'\\xd0\\xbf\\xd1\\x80\\xd0\\xb8\\xd0\\xb4\\xd0\\xb5\\xd1\\x82',\n",
              "  b'\\xd0\\xba\\xd0\\xbe\\xd0\\xbc\\xd0\\xb8\\xd1\\x81\\xd1\\x81\\xd0\\xb8\\xd1\\x8f',\n",
              "  b'\\xd0\\xbf\\xd1\\x80\\xd0\\xbe\\xd0\\xb2\\xd0\\xb5\\xd1\\x80\\xd1\\x8f\\xd1\\x82\\xd1\\x8c',\n",
              "  b'\\xd0\\xb4\\xd0\\xbe\\xd0\\xba\\xd1\\x83\\xd0\\xbc\\xd0\\xb5\\xd0\\xbd\\xd1\\x82\\xd0\\xb0\\xd1\\x86\\xd0\\xb8\\xd1\\x8e'],\n",
              " [b'\\xd0\\xb4\\xd0\\xb0\\xd0\\xb2\\xd0\\xb0\\xd0\\xb8',\n",
              "  b'\\xd0\\xbf\\xd0\\xbe\\xd0\\xb3\\xd0\\xbe\\xd0\\xb2\\xd0\\xbe\\xd1\\x80\\xd0\\xb8\\xd0\\xbc',\n",
              "  b'\\xd0\\xbe', b'\\xd1\\x87\\xd0\\xb5\\xd0\\xbc', b'-',\n",
              "  b'\\xd0\\xbd\\xd0\\xb8\\xd0\\xb1\\xd1\\x83\\xd0\\xb4\\xd1\\x8c',\n",
              "  b'\\xd0\\xb4\\xd1\\x80\\xd1\\x83\\xd0\\xb3\\xd0\\xbe\\xd0\\xbc']                        ]>"
            ]
          },
          "metadata": {},
          "execution_count": 28
        }
      ]
    },
    {
      "cell_type": "code",
      "source": [
        "cleanup_text(reserved_tokens, words).numpy()"
      ],
      "metadata": {
        "colab": {
          "base_uri": "https://localhost:8080/"
        },
        "id": "rO5cDEbSVWqC",
        "outputId": "2cc1b026-a23c-432b-9132-eb37be60b5dd"
      },
      "execution_count": null,
      "outputs": [
        {
          "output_type": "execute_result",
          "data": {
            "text/plain": [
              "array([b'\\xd1\\x8f \\xd1\\x80\\xd1\\x8f\\xd0\\xb6\\xd0\\xb5\\xd0\\xbd\\xd0\\xba\\xd1\\x83 \\xd0\\xbb\\xd1\\x83\\xd1\\x87\\xd1\\x88\\xd0\\xb5 \\xd0\\xbb\\xd1\\x8e\\xd0\\xb1\\xd0\\xbb\\xd1\\x8e .',\n",
              "       b'\\xd0\\xbe\\xd1\\x81\\xd0\\xbe\\xd0\\xb1\\xd0\\xb5\\xd0\\xbd\\xd0\\xbd\\xd0\\xbe \\xd0\\xba\\xd0\\xbe\\xd0\\xb3\\xd0\\xb4\\xd0\\xb0 \\xd0\\xbf\\xd1\\x80\\xd0\\xb8\\xd0\\xb4\\xd0\\xb5\\xd1\\x82 \\xd0\\xba\\xd0\\xbe\\xd0\\xbc\\xd0\\xb8\\xd1\\x81\\xd1\\x81\\xd0\\xb8\\xd1\\x8f \\xd0\\xbf\\xd1\\x80\\xd0\\xbe\\xd0\\xb2\\xd0\\xb5\\xd1\\x80\\xd1\\x8f\\xd1\\x82\\xd1\\x8c \\xd0\\xb4\\xd0\\xbe\\xd0\\xba\\xd1\\x83\\xd0\\xbc\\xd0\\xb5\\xd0\\xbd\\xd1\\x82\\xd0\\xb0\\xd1\\x86\\xd0\\xb8\\xd1\\x8e',\n",
              "       b'\\xd0\\xb4\\xd0\\xb0\\xd0\\xb2\\xd0\\xb0\\xd0\\xb8 \\xd0\\xbf\\xd0\\xbe\\xd0\\xb3\\xd0\\xbe\\xd0\\xb2\\xd0\\xbe\\xd1\\x80\\xd0\\xb8\\xd0\\xbc \\xd0\\xbe \\xd1\\x87\\xd0\\xb5\\xd0\\xbc - \\xd0\\xbd\\xd0\\xb8\\xd0\\xb1\\xd1\\x83\\xd0\\xb4\\xd1\\x8c \\xd0\\xb4\\xd1\\x80\\xd1\\x83\\xd0\\xb3\\xd0\\xbe\\xd0\\xbc'],\n",
              "      dtype=object)"
            ]
          },
          "metadata": {},
          "execution_count": 29
        }
      ]
    },
    {
      "cell_type": "code",
      "source": [
        "class CustomTokenizer(tf.Module):\n",
        "  def __init__(self, reserved_tokens, vocab_path):\n",
        "    # Определяем токенизатор\n",
        "    self.tokenizer = text.BertTokenizer(vocab_path, lower_case=True)\n",
        "    # Зарезервированные токены\n",
        "    self._reserved_tokens = reserved_tokens\n",
        "    # Путь к файлу словаря\n",
        "    self._vocab_path = tf.saved_model.Asset(vocab_path)\n",
        "    # Читаем из файла словарь и делим по строкам\n",
        "    vocab = pathlib.Path(vocab_path).read_text().splitlines()\n",
        "    self.vocab = tf.Variable(vocab)\n",
        "\n",
        "    # Для экспорта класса необходимо создать так называемые сигнатуры,\n",
        "    # чтобы tensorflow понимал с какими данными он работает\n",
        "\n",
        "    # Сигнатура для tokenize (работает с пакетами строк).\n",
        "    self.tokenize.get_concrete_function(\n",
        "        tf.TensorSpec(shape=[None], dtype=tf.string))\n",
        "\n",
        "    # Сигнатура для `detokenize` и `lookup`\n",
        "    # Могут работать как с `Tensors`, так и `RaggedTensors`\n",
        "    # с тензорами формы [batch, tokens]\n",
        "    self.detokenize.get_concrete_function(\n",
        "        tf.TensorSpec(shape=[None, None], dtype=tf.int64))\n",
        "    self.detokenize.get_concrete_function(\n",
        "          tf.RaggedTensorSpec(shape=[None, None], dtype=tf.int64))\n",
        "\n",
        "    self.lookup.get_concrete_function(\n",
        "        tf.TensorSpec(shape=[None, None], dtype=tf.int64))\n",
        "    self.lookup.get_concrete_function(\n",
        "          tf.RaggedTensorSpec(shape=[None, None], dtype=tf.int64))\n",
        "\n",
        "    # Методы `get_*` не имеют аргументов\n",
        "    self.get_vocab_size.get_concrete_function()\n",
        "    self.get_vocab_path.get_concrete_function()\n",
        "    self.get_reserved_tokens.get_concrete_function()\n",
        "\n",
        "    # После определения сигнатур можно определить и сами методы класса\n",
        "\n",
        "  @tf.function\n",
        "  def tokenize(self, strings):\n",
        "    enc = self.tokenizer.tokenize(strings)\n",
        "    # Объединяем оси `word` и `word-piece` (как в примере выше)\n",
        "    enc = enc.merge_dims(-2,-1)\n",
        "    enc = add_start_end(enc)\n",
        "    return enc\n",
        "\n",
        "  @tf.function\n",
        "  def detokenize(self, tokenized):\n",
        "    words = self.tokenizer.detokenize(tokenized)\n",
        "    return cleanup_text(self._reserved_tokens, words) # очищаем перед выводом\n",
        "\n",
        "  @tf.function\n",
        "  def lookup(self, token_ids):\n",
        "    return tf.gather(self.vocab, token_ids) # возвращаем явное соответствие словаря токенам\n",
        "\n",
        "  @tf.function\n",
        "  def get_vocab_size(self):\n",
        "    return tf.shape(self.vocab)[0] # определяем длину словаря по нулевому индексу формы\n",
        "\n",
        "  @tf.function\n",
        "  def get_vocab_path(self):\n",
        "    return self._vocab_path # получение пути к файлу словаря\n",
        "\n",
        "  @tf.function\n",
        "  def get_reserved_tokens(self):\n",
        "    return tf.constant(self._reserved_tokens) # получение списка зарезервированных токенов\n"
      ],
      "metadata": {
        "id": "EPuFGOw_VZfK"
      },
      "execution_count": null,
      "outputs": []
    },
    {
      "cell_type": "code",
      "source": [
        "tokenizers = tf.Module()\n",
        "tokenizers.pt = CustomTokenizer(reserved_tokens, 'vocab.txt')\n",
        "tokenizers.en = CustomTokenizer(reserved_tokens, 'vocab.txt')"
      ],
      "metadata": {
        "id": "uO5guZh4VkpS"
      },
      "execution_count": null,
      "outputs": []
    },
    {
      "cell_type": "code",
      "source": [
        "model_name = 'ted_hrlr_translate_pt_en_converter'\n",
        "tf.saved_model.save(tokenizers, model_name)"
      ],
      "metadata": {
        "id": "suxAnVgyVm3D"
      },
      "execution_count": null,
      "outputs": []
    },
    {
      "cell_type": "code",
      "source": [
        "encoded = tokenizers.en.tokenize(en_examples)\n",
        "\n",
        "for row in encoded.to_list():\n",
        "  print(row)"
      ],
      "metadata": {
        "colab": {
          "base_uri": "https://localhost:8080/"
        },
        "id": "6kBB9JRNVoHz",
        "outputId": "36bd0b10-9bd7-4b75-e0e9-0861b17040a2"
      },
      "execution_count": null,
      "outputs": [
        {
          "output_type": "stream",
          "name": "stdout",
          "text": [
            "[2, 67, 52, 111, 519, 654, 116, 190, 7, 3]\n",
            "[2, 741, 94, 2675, 941, 122, 2499, 278, 285, 2393, 544, 179, 212, 2448, 2126, 3]\n",
            "[2, 780, 85, 2403, 923, 50, 100, 6, 215, 1452, 3]\n"
          ]
        }
      ]
    },
    {
      "cell_type": "code",
      "source": [
        "round_trip = tokenizers.en.detokenize(encoded)\n",
        "for line in round_trip.numpy():\n",
        "  print(line.decode('utf-8'))"
      ],
      "metadata": {
        "colab": {
          "base_uri": "https://localhost:8080/"
        },
        "id": "DPMH2_QeVpU7",
        "outputId": "b47465d0-bc78-48d8-ae44-1a186e02ec9b"
      },
      "execution_count": null,
      "outputs": [
        {
          "output_type": "stream",
          "name": "stdout",
          "text": [
            "я ряженку лучше люблю .\n",
            "особенно когда придет комиссия проверять документацию\n",
            "даваи поговорим о чем - нибудь другом\n"
          ]
        }
      ]
    },
    {
      "cell_type": "code",
      "source": [
        "tokens = tokenizers.en.lookup(encoded)\n",
        "tokens"
      ],
      "metadata": {
        "colab": {
          "base_uri": "https://localhost:8080/"
        },
        "id": "3Mv5SSN5VqcD",
        "outputId": "4eec8cb9-d795-4822-e40c-e7ca01c92521"
      },
      "execution_count": null,
      "outputs": [
        {
          "output_type": "execute_result",
          "data": {
            "text/plain": [
              "<tf.RaggedTensor [[b'[START]', b'\\xd1\\x8f', b'\\xd1\\x80', b'##\\xd1\\x8f',\n",
              "  b'##\\xd0\\xb6\\xd0\\xb5', b'##\\xd0\\xbd\\xd0\\xba\\xd1\\x83',\n",
              "  b'\\xd0\\xbb\\xd1\\x83\\xd1\\x87\\xd1\\x88\\xd0\\xb5',\n",
              "  b'\\xd0\\xbb\\xd1\\x8e\\xd0\\xb1\\xd0\\xbb\\xd1\\x8e', b'.', b'[END]'],\n",
              " [b'[START]',\n",
              "  b'\\xd0\\xbe\\xd1\\x81\\xd0\\xbe\\xd0\\xb1\\xd0\\xb5\\xd0\\xbd\\xd0\\xbd\\xd0\\xbe',\n",
              "  b'\\xd0\\xba\\xd0\\xbe\\xd0\\xb3\\xd0\\xb4\\xd0\\xb0',\n",
              "  b'\\xd0\\xbf\\xd1\\x80\\xd0\\xb8\\xd0\\xb4\\xd0\\xb5\\xd1\\x82', b'\\xd0\\xba\\xd0\\xbe',\n",
              "  b'##\\xd0\\xbc\\xd0\\xb8', b'##\\xd1\\x81\\xd1\\x81', b'##\\xd0\\xb8\\xd1\\x8f',\n",
              "  b'\\xd0\\xbf\\xd1\\x80\\xd0\\xbe', b'##\\xd0\\xb2\\xd0\\xb5\\xd1\\x80',\n",
              "  b'##\\xd1\\x8f\\xd1\\x82\\xd1\\x8c', b'\\xd0\\xb4\\xd0\\xbe', b'##\\xd0\\xba\\xd1\\x83',\n",
              "  b'##\\xd0\\xbc\\xd0\\xb5\\xd0\\xbd\\xd1\\x82',\n",
              "  b'##\\xd0\\xb0\\xd1\\x86\\xd0\\xb8\\xd1\\x8e', b'[END]']                          ,\n",
              " [b'[START]', b'\\xd0\\xb4\\xd0\\xb0\\xd0\\xb2\\xd0\\xb0\\xd0\\xb8',\n",
              "  b'\\xd0\\xbf\\xd0\\xbe', b'##\\xd0\\xb3\\xd0\\xbe\\xd0\\xb2\\xd0\\xbe\\xd1\\x80',\n",
              "  b'##\\xd0\\xb8\\xd0\\xbc', b'\\xd0\\xbe', b'\\xd1\\x87\\xd0\\xb5\\xd0\\xbc', b'-',\n",
              "  b'\\xd0\\xbd\\xd0\\xb8\\xd0\\xb1\\xd1\\x83\\xd0\\xb4\\xd1\\x8c',\n",
              "  b'\\xd0\\xb4\\xd1\\x80\\xd1\\x83\\xd0\\xb3\\xd0\\xbe\\xd0\\xbc', b'[END]']        ]>"
            ]
          },
          "metadata": {},
          "execution_count": 35
        }
      ]
    },
    {
      "cell_type": "code",
      "source": [
        "\n",
        "def prepare_batch(pt, en):\n",
        "    pt = tokenizers.pt.tokenize(pt)   # Токенизируем данные\n",
        "    pt = pt[:, :MAX_TOKENS]           # Выравнивание данных по MAX_TOKENS.\n",
        "    pt = pt.to_tensor()               # Преобразуем в тензор с равномерными измерениями\n",
        "\n",
        "    en = tokenizers.en.tokenize(en)\n",
        "    en = en[:, :(MAX_TOKENS+1)]\n",
        "    en_inputs = en[:, :-1].to_tensor()  # Удаляем [END] токены (вход декодировщика)\n",
        "    en_labels = en[:, 1:].to_tensor()   # Удаляем [START] токены (выход декодировщика)\n",
        "\n",
        "    return (pt, en_inputs), en_labels"
      ],
      "metadata": {
        "id": "3k4w62TTVsDL"
      },
      "execution_count": null,
      "outputs": []
    },
    {
      "cell_type": "code",
      "source": [],
      "metadata": {
        "id": "qP2akOOXVtOj"
      },
      "execution_count": null,
      "outputs": []
    },
    {
      "cell_type": "code",
      "source": [
        "def make_batches(ds):\n",
        "  return (\n",
        "      ds\n",
        "      .shuffle(BUFFER_SIZE)                     # перемешиваем данные\n",
        "      .batch(BATCH_SIZE)                        # делим датасет на пакеты\n",
        "      .map(prepare_batch, tf.data.AUTOTUNE)     # применим функцию prepare_batch\n",
        "      .prefetch(buffer_size=tf.data.AUTOTUNE))  # prefetch используется для разделения времени, когда данные подготавливаются и потребляются, что ускоряет обучение сети"
      ],
      "metadata": {
        "id": "Za39bsP-Vuij"
      },
      "execution_count": null,
      "outputs": []
    },
    {
      "cell_type": "code",
      "source": [
        "train_batches = make_batches(data_train)\n",
        "val_batches = make_batches(data_val)"
      ],
      "metadata": {
        "id": "fLKgKboHVvl8"
      },
      "execution_count": null,
      "outputs": []
    },
    {
      "cell_type": "code",
      "source": [
        "for (pt, en), en_labels in train_batches.take(1):\n",
        "  break\n",
        "\n",
        "print(pt.shape)\n",
        "print(en.shape)\n",
        "print(en_labels.shape)"
      ],
      "metadata": {
        "colab": {
          "base_uri": "https://localhost:8080/"
        },
        "id": "WGLWMl7qVwtq",
        "outputId": "9d6185a8-7147-4106-869c-22685fd34ba4"
      },
      "execution_count": null,
      "outputs": [
        {
          "output_type": "stream",
          "name": "stdout",
          "text": [
            "(128, 47)\n",
            "(128, 64)\n",
            "(128, 64)\n"
          ]
        }
      ]
    },
    {
      "cell_type": "code",
      "source": [
        "# length - порядковый номер слова в фразе\n",
        "# depth - размер пространства эмбеддинга\n",
        "def positional_encoding(length, depth):\n",
        "  depth = depth/2\n",
        "\n",
        "  positions = np.arange(length)[:, np.newaxis]     # форма (seq, 1)\n",
        "  depths = np.arange(depth)[np.newaxis, :]/depth   # форма (1, depth)\n",
        "\n",
        "  angle_rates = 1 / (10000**depths)         # форма (1, depth)\n",
        "  angle_rads = positions * angle_rates      # форма (pos, depth)\n",
        "\n",
        "  pos_encoding = np.concatenate(\n",
        "      [np.sin(angle_rads), np.cos(angle_rads)],\n",
        "      axis=-1)\n",
        "\n",
        "  return tf.cast(pos_encoding, dtype=tf.float32)  # указываем тип возвращаемых данных"
      ],
      "metadata": {
        "id": "NfCQBXGbVyUK"
      },
      "execution_count": null,
      "outputs": []
    },
    {
      "cell_type": "code",
      "source": [
        "pos_encoding = positional_encoding(length=2048, depth=512)\n",
        "\n",
        "# Прверим форму\n",
        "print(pos_encoding.shape)\n"
      ],
      "metadata": {
        "colab": {
          "base_uri": "https://localhost:8080/"
        },
        "id": "swdC_9FhVzvL",
        "outputId": "7a77ba6e-b2df-493f-fcd0-58dfcb7fdeaf"
      },
      "execution_count": null,
      "outputs": [
        {
          "output_type": "stream",
          "name": "stdout",
          "text": [
            "(2048, 512)\n"
          ]
        }
      ]
    },
    {
      "cell_type": "code",
      "source": [
        "# Наследуем класс от tf.keras.layers.Layer\n",
        "# Теперь наш слой тоже является классом Keras\n",
        "class PositionalEmbedding(tf.keras.layers.Layer):\n",
        "  def __init__(self, vocab_size, d_model):\n",
        "    super().__init__()\n",
        "    self.d_model = d_model\n",
        "    self.embedding = tf.keras.layers.Embedding(vocab_size, d_model, mask_zero=True) # эмбеддинг\n",
        "    self.pos_encoding = positional_encoding(length=2048, depth=d_model) # позиционное кодирование\n",
        "\n",
        "  # Данный метод возвращает маску эмбеддинга\n",
        "  # Так как вектора выравниваются до одной длины с помощью pad_sequences,\n",
        "  # то метод вернет True для ненулевых токенов, и False для нулевых токенов\n",
        "\n",
        "  def compute_mask(self, *args, **kwargs):\n",
        "    return self.embedding.compute_mask(*args, **kwargs)\n",
        "\n",
        "  def call(self, x):\n",
        "    length = tf.shape(x)[1]\n",
        "    x = self.embedding(x)\n",
        "\n",
        "    # Этот коэффициент задает относительный масштаб встраивания и позиционного кодирования\n",
        "    # C этим параметром можно и нужно играться!\n",
        "    x *= tf.math.sqrt(tf.cast(self.d_model, tf.float32))\n",
        "    x = x + self.pos_encoding[tf.newaxis, :length, :]\n",
        "    return x\n"
      ],
      "metadata": {
        "id": "uY2dbS4HV1UT"
      },
      "execution_count": null,
      "outputs": []
    },
    {
      "cell_type": "code",
      "source": [
        "embed_pt = PositionalEmbedding(vocab_size=tokenizers.pt.get_vocab_size().numpy(), d_model=512)\n",
        "embed_en = PositionalEmbedding(vocab_size=tokenizers.en.get_vocab_size().numpy(), d_model=512)\n",
        "\n",
        "pt_emb = embed_pt(pt)\n",
        "en_emb = embed_en(en)"
      ],
      "metadata": {
        "id": "8cYRg8zXV2nr"
      },
      "execution_count": null,
      "outputs": []
    },
    {
      "cell_type": "code",
      "source": [
        "en_emb._keras_mask"
      ],
      "metadata": {
        "colab": {
          "base_uri": "https://localhost:8080/"
        },
        "id": "Z0JOLak4V3st",
        "outputId": "e221ea6a-6f18-479a-c66e-a8aefa4e8b9f"
      },
      "execution_count": null,
      "outputs": [
        {
          "output_type": "execute_result",
          "data": {
            "text/plain": [
              "<tf.Tensor: shape=(128, 64), dtype=bool, numpy=\n",
              "array([[ True,  True,  True, ..., False, False, False],\n",
              "       [ True,  True,  True, ..., False, False, False],\n",
              "       [ True,  True,  True, ..., False, False, False],\n",
              "       ...,\n",
              "       [ True,  True,  True, ..., False, False, False],\n",
              "       [ True,  True,  True, ..., False, False, False],\n",
              "       [ True,  True,  True, ..., False, False, False]])>"
            ]
          },
          "metadata": {},
          "execution_count": 44
        }
      ]
    },
    {
      "cell_type": "code",
      "source": [
        "class BaseAttention(tf.keras.layers.Layer):\n",
        "  def __init__(self, **kwargs):\n",
        "    super().__init__()\n",
        "    self.mha = tf.keras.layers.MultiHeadAttention(**kwargs)\n",
        "    self.layernorm = tf.keras.layers.LayerNormalization()\n",
        "    self.add = tf.keras.layers.Add()"
      ],
      "metadata": {
        "id": "h6wlNpTQV5ND"
      },
      "execution_count": null,
      "outputs": []
    },
    {
      "cell_type": "code",
      "source": [
        "d = {'color': 'blue', 'age': 22, 'type': 'pickup'}\n",
        "result = d['color']"
      ],
      "metadata": {
        "id": "WRusn18zV8DL"
      },
      "execution_count": null,
      "outputs": []
    },
    {
      "cell_type": "code",
      "source": [
        "class CrossAttention(BaseAttention):\n",
        "  def call(self, x, context):\n",
        "    # Пропускаем сигнал через многоголовое внимание\n",
        "    attn_output, attn_scores = self.mha(\n",
        "        query=x,                        # запрос\n",
        "        key=context,                    # ключ\n",
        "        value=context,                  # значение\n",
        "        return_attention_scores=True)   # возвращаем оценки внимания\n",
        "\n",
        "    # Запоминаем оценки на будущее\n",
        "    self.last_attn_scores = attn_scores\n",
        "\n",
        "    # Добавляем остаточную связь и нормализацию\n",
        "    x = self.add([x, attn_output])\n",
        "    x = self.layernorm(x)\n",
        "\n",
        "    return x"
      ],
      "metadata": {
        "id": "KIFhCVA8V9zD"
      },
      "execution_count": null,
      "outputs": []
    },
    {
      "cell_type": "code",
      "source": [
        "# При инициализации через базовый класс передаем в слой tf.keras.layers.MultiHeadAttention\n",
        "# параметры num_heads - число голов, key_dim - размерность ключа\n",
        "sample_ca = CrossAttention(num_heads=2, key_dim=512)\n",
        "\n",
        "print(pt_emb.shape)\n",
        "print(en_emb.shape)\n",
        "print(sample_ca(en_emb, pt_emb).shape)"
      ],
      "metadata": {
        "colab": {
          "base_uri": "https://localhost:8080/"
        },
        "id": "mreWWONRWBCL",
        "outputId": "ece3c683-7e74-4132-ecff-400139637a74"
      },
      "execution_count": null,
      "outputs": [
        {
          "output_type": "stream",
          "name": "stdout",
          "text": [
            "(128, 47, 512)\n",
            "(128, 64, 512)\n",
            "(128, 64, 512)\n"
          ]
        }
      ]
    },
    {
      "cell_type": "code",
      "source": [
        "class GlobalSelfAttention(BaseAttention):\n",
        "  def call(self, x):\n",
        "    # Пропускаем сигнал через многоголовое внимание\n",
        "    attn_output = self.mha(\n",
        "        query=x,  # запрос\n",
        "        value=x,  # ключ\n",
        "        key=x)    # значение\n",
        "\n",
        "    # Добавляем остаточную связь и нормализацию\n",
        "    x = self.add([x, attn_output])\n",
        "    x = self.layernorm(x)\n",
        "    return x"
      ],
      "metadata": {
        "id": "XDza0dvAWC8z"
      },
      "execution_count": null,
      "outputs": []
    },
    {
      "cell_type": "code",
      "source": [
        "sample_gsa = GlobalSelfAttention(num_heads=2, key_dim=512)\n",
        "\n",
        "print(pt_emb.shape)\n",
        "print(sample_gsa(pt_emb).shape)"
      ],
      "metadata": {
        "colab": {
          "base_uri": "https://localhost:8080/"
        },
        "id": "MjpelCoGWEMM",
        "outputId": "754d5205-291a-4016-c084-016d73bc15a3"
      },
      "execution_count": null,
      "outputs": [
        {
          "output_type": "stream",
          "name": "stdout",
          "text": [
            "(128, 47, 512)\n",
            "(128, 47, 512)\n"
          ]
        }
      ]
    },
    {
      "cell_type": "code",
      "source": [
        "class CausalSelfAttention(BaseAttention):\n",
        "  def call(self, x):\n",
        "    attn_output = self.mha(\n",
        "        query=x,\n",
        "        value=x,\n",
        "        key=x,\n",
        "        use_causal_mask = True)  # отличается от GlobalSelfAttention одним аргументом\n",
        "    x = self.add([x, attn_output])\n",
        "    x = self.layernorm(x)\n",
        "    return x"
      ],
      "metadata": {
        "id": "REzooWlhWGwU"
      },
      "execution_count": null,
      "outputs": []
    },
    {
      "cell_type": "code",
      "source": [
        "sample_csa = CausalSelfAttention(num_heads=2, key_dim=512)\n",
        "\n",
        "print(en_emb.shape)\n",
        "print(sample_csa(en_emb).shape)"
      ],
      "metadata": {
        "colab": {
          "base_uri": "https://localhost:8080/"
        },
        "id": "jM-CqEZcWIi8",
        "outputId": "220920d5-e4f9-4245-9656-7cf055bf3200"
      },
      "execution_count": null,
      "outputs": [
        {
          "output_type": "stream",
          "name": "stdout",
          "text": [
            "(128, 64, 512)\n",
            "(128, 64, 512)\n"
          ]
        }
      ]
    },
    {
      "cell_type": "code",
      "source": [
        "out1 = sample_csa(embed_en(en[:, :3]))\n",
        "out2 = sample_csa(embed_en(en))[:, :3]\n",
        "\n",
        "tf.reduce_max(abs(out1 - out2)).numpy()"
      ],
      "metadata": {
        "colab": {
          "base_uri": "https://localhost:8080/"
        },
        "id": "-J_h4_6cWJrV",
        "outputId": "d9ba9237-3d8a-48b7-a20d-a2af12d0aa43"
      },
      "execution_count": null,
      "outputs": [
        {
          "output_type": "execute_result",
          "data": {
            "text/plain": [
              "7.1525574e-07"
            ]
          },
          "metadata": {},
          "execution_count": 53
        }
      ]
    },
    {
      "cell_type": "code",
      "source": [
        "class FeedForward(tf.keras.layers.Layer):\n",
        "  def __init__(self, d_model, dff, dropout_rate=0.1):\n",
        "    super().__init__()\n",
        "    self.seq = tf.keras.Sequential([\n",
        "      tf.keras.layers.Dense(dff, activation='relu'),\n",
        "      tf.keras.layers.Dense(d_model),\n",
        "      tf.keras.layers.Dropout(dropout_rate)\n",
        "    ])\n",
        "    self.add = tf.keras.layers.Add()\n",
        "    self.layer_norm = tf.keras.layers.LayerNormalization()\n",
        "\n",
        "  def call(self, x):\n",
        "    x = self.add([x, self.seq(x)])\n",
        "    x = self.layer_norm(x)\n",
        "    return x"
      ],
      "metadata": {
        "id": "9nLmoN0pWLSE"
      },
      "execution_count": null,
      "outputs": []
    },
    {
      "cell_type": "code",
      "source": [
        "sample_ffn = FeedForward(512, 2048)\n",
        "\n",
        "print(en_emb.shape)\n",
        "print(sample_ffn(en_emb).shape)"
      ],
      "metadata": {
        "colab": {
          "base_uri": "https://localhost:8080/"
        },
        "id": "JHF07myLWMdc",
        "outputId": "c979b8f8-276f-4140-d701-29f6c52f74c2"
      },
      "execution_count": null,
      "outputs": [
        {
          "output_type": "stream",
          "name": "stdout",
          "text": [
            "(128, 64, 512)\n",
            "(128, 64, 512)\n"
          ]
        }
      ]
    },
    {
      "cell_type": "code",
      "source": [
        "class EncoderLayer(tf.keras.layers.Layer):\n",
        "  def __init__(self,*, d_model, num_heads, dff, dropout_rate=0.1):\n",
        "    super().__init__()\n",
        "\n",
        "    self.self_attention = GlobalSelfAttention(\n",
        "        num_heads=num_heads,  # число голов\n",
        "        key_dim=d_model,      # размерность ключа\n",
        "        dropout=dropout_rate) # уровень регуляризации\n",
        "\n",
        "    self.ffn = FeedForward(d_model, dff) # число нейронов во втором и первом Dense слое, соответственно\n",
        "\n",
        "  def call(self, x):\n",
        "    x = self.self_attention(x)\n",
        "    x = self.ffn(x)\n",
        "    return x"
      ],
      "metadata": {
        "id": "XrkyE0_JWN8m"
      },
      "execution_count": null,
      "outputs": []
    },
    {
      "cell_type": "code",
      "source": [
        "sample_encoder_layer = EncoderLayer(d_model=512, num_heads=8, dff=2048)\n",
        "\n",
        "print(pt_emb.shape)\n",
        "print(sample_encoder_layer(pt_emb).shape)"
      ],
      "metadata": {
        "colab": {
          "base_uri": "https://localhost:8080/"
        },
        "id": "nu__BVCxWPQs",
        "outputId": "5033787a-f754-4349-a7a8-f7ae8422223d"
      },
      "execution_count": null,
      "outputs": [
        {
          "output_type": "stream",
          "name": "stdout",
          "text": [
            "(128, 47, 512)\n",
            "(128, 47, 512)\n"
          ]
        }
      ]
    },
    {
      "cell_type": "code",
      "source": [
        "class Encoder(tf.keras.layers.Layer):\n",
        "  def __init__(self, *, num_layers, d_model, num_heads,\n",
        "               dff, vocab_size, dropout_rate=0.1):\n",
        "    super().__init__()\n",
        "\n",
        "    # Инициируем переменные внутри класса\n",
        "    self.d_model = d_model\n",
        "    self.num_layers = num_layers\n",
        "\n",
        "    # Создаем объект класса позиционного кодирования\n",
        "    self.pos_embedding = PositionalEmbedding(\n",
        "        vocab_size=vocab_size, d_model=d_model)\n",
        "\n",
        "    # Создаем объект класса для слоя кодировщика\n",
        "    self.enc_layers = [\n",
        "        EncoderLayer(d_model=d_model,\n",
        "                     num_heads=num_heads,\n",
        "                     dff=dff,\n",
        "                     dropout_rate=dropout_rate)\n",
        "        for _ in range(num_layers)]\n",
        "\n",
        "    # Создаем объект класса для слоя регуляризации\n",
        "    self.dropout = tf.keras.layers.Dropout(dropout_rate)\n",
        "\n",
        "  def call(self, x):\n",
        "    # Форма x токена: (batch, seq_len)\n",
        "    # Прогоняем последовательность токенов через слой позиционного кодирования\n",
        "    x = self.pos_embedding(x)  # форма на выходе (batch_size, seq_len, d_model)\n",
        "\n",
        "    # Прогоняем последовательность токенов через слой регуляризации\n",
        "    x = self.dropout(x)\n",
        "\n",
        "    # Прогоняем последовательность токенов через num_layers слоев кодировщика\n",
        "    for i in range(self.num_layers):\n",
        "      x = self.enc_layers[i](x)\n",
        "\n",
        "    return x  # форма на выходе (batch_size, seq_len, d_model)"
      ],
      "metadata": {
        "id": "I2D7J6TPWRGc"
      },
      "execution_count": null,
      "outputs": []
    },
    {
      "cell_type": "code",
      "source": [
        "sample_encoder = Encoder(num_layers=4,\n",
        "                         d_model=512,\n",
        "                         num_heads=8,\n",
        "                         dff=2048,\n",
        "                         vocab_size=VOCAB_SIZE)\n",
        "\n",
        "sample_encoder_output = sample_encoder(pt, training=False)\n",
        "\n",
        "print(pt.shape)\n",
        "print(sample_encoder_output.shape)  # форма на выходе (batch_size, input_seq_len, d_model)"
      ],
      "metadata": {
        "colab": {
          "base_uri": "https://localhost:8080/"
        },
        "id": "rMbC1LyWWSd0",
        "outputId": "97753ee8-1e82-427b-bfd7-9385c7fa6076"
      },
      "execution_count": null,
      "outputs": [
        {
          "output_type": "stream",
          "name": "stdout",
          "text": [
            "(128, 47)\n",
            "(128, 47, 512)\n"
          ]
        }
      ]
    },
    {
      "cell_type": "code",
      "source": [
        "class DecoderLayer(tf.keras.layers.Layer):\n",
        "  def __init__(self,\n",
        "               *,\n",
        "               d_model,\n",
        "               num_heads,\n",
        "               dff,\n",
        "               dropout_rate=0.1):\n",
        "    super(DecoderLayer, self).__init__()\n",
        "\n",
        "    # Слой внимания с причинно-следственной связью\n",
        "    self.causal_self_attention = CausalSelfAttention(\n",
        "        num_heads=num_heads,\n",
        "        key_dim=d_model,\n",
        "        dropout=dropout_rate)\n",
        "\n",
        "    # Слой с кросс-вниманием\n",
        "    self.cross_attention = CrossAttention(\n",
        "        num_heads=num_heads,\n",
        "        key_dim=d_model,\n",
        "        dropout=dropout_rate)\n",
        "\n",
        "    # Слой прямого распространения\n",
        "    self.ffn = FeedForward(d_model, dff)\n",
        "\n",
        "  def call(self, x, context):\n",
        "    # Пропускаем последовательность токенов через:\n",
        "    # Каузальный слой внимания\n",
        "    x = self.causal_self_attention(x=x)\n",
        "    # Слой кросс-внимания и контекстным вектором из кодировщика\n",
        "    x = self.cross_attention(x=x, context=context)\n",
        "\n",
        "    # Запомним оценки внимания на будущее\n",
        "    self.last_attn_scores = self.cross_attention.last_attn_scores\n",
        "    # Через слой прямого распространения\n",
        "    x = self.ffn(x)  # Форма `(batch_size, seq_len, d_model)`.\n",
        "    return x"
      ],
      "metadata": {
        "id": "wCVKGftQWUcV"
      },
      "execution_count": null,
      "outputs": []
    },
    {
      "cell_type": "code",
      "source": [
        "sample_decoder_layer = DecoderLayer(d_model=512, num_heads=8, dff=2048)\n",
        "\n",
        "sample_decoder_layer_output = sample_decoder_layer(\n",
        "    x=en_emb, context=pt_emb)\n",
        "\n",
        "print(en_emb.shape)\n",
        "print(pt_emb.shape)\n",
        "print(sample_decoder_layer_output.shape)  # Форма `(batch_size, seq_len, d_model)`"
      ],
      "metadata": {
        "colab": {
          "base_uri": "https://localhost:8080/"
        },
        "id": "iluFqH8oWV42",
        "outputId": "68e0e74b-5b0e-4a5d-c73e-6d283def8417"
      },
      "execution_count": null,
      "outputs": [
        {
          "output_type": "stream",
          "name": "stdout",
          "text": [
            "(128, 64, 512)\n",
            "(128, 47, 512)\n",
            "(128, 64, 512)\n"
          ]
        }
      ]
    },
    {
      "cell_type": "code",
      "source": [
        "class Decoder(tf.keras.layers.Layer):\n",
        "  def __init__(self, *, num_layers, d_model, num_heads, dff, vocab_size,\n",
        "               dropout_rate=0.1):\n",
        "    super(Decoder, self).__init__()\n",
        "\n",
        "    # Инициируем переменные внутри класса\n",
        "    self.d_model = d_model\n",
        "    self.num_layers = num_layers\n",
        "\n",
        "    # Создаем объект класса позиционного кодирования\n",
        "    self.pos_embedding = PositionalEmbedding(vocab_size=vocab_size,\n",
        "                                             d_model=d_model)\n",
        "    # Создаем объект класса для слоя регуляризации\n",
        "    self.dropout = tf.keras.layers.Dropout(dropout_rate)\n",
        "\n",
        "    # Создаем сразу стек слоев декодировщиков с помощью генератора списков по числу слоев\n",
        "    self.dec_layers = [\n",
        "        DecoderLayer(d_model=d_model, num_heads=num_heads,\n",
        "                     dff=dff, dropout_rate=dropout_rate)\n",
        "        for _ in range(num_layers)]\n",
        "\n",
        "    # Сбрасываем оценки внимания\n",
        "    self.last_attn_scores = None\n",
        "\n",
        "  def call(self, x, context):\n",
        "    # Подаем на вход последовательность токенов x формой (batch, target_seq_len)\n",
        "\n",
        "    # Пропускаем через слой позиционного кодирования (и конечно же эмбеддинг)\n",
        "    x = self.pos_embedding(x)  # форма на выходе (batch_size, target_seq_len, d_model)\n",
        "\n",
        "    # Регуляризация\n",
        "    x = self.dropout(x)\n",
        "\n",
        "    # Прогоняем через num_layers слоев декодировщиков\n",
        "    for i in range(self.num_layers):\n",
        "      x  = self.dec_layers[i](x, context)\n",
        "\n",
        "    # Сохраняем оценки внимания из последнего слоя\n",
        "    self.last_attn_scores = self.dec_layers[-1].last_attn_scores\n",
        "\n",
        "    # Форма x на выходе (batch_size, target_seq_len, d_model)\n",
        "    return x"
      ],
      "metadata": {
        "id": "vBI9UeO1WYMs"
      },
      "execution_count": null,
      "outputs": []
    },
    {
      "cell_type": "code",
      "source": [
        "sample_decoder = Decoder(num_layers=4,\n",
        "                         d_model=512,\n",
        "                         num_heads=8,\n",
        "                         dff=2048,\n",
        "                         vocab_size=8000)\n",
        "\n",
        "output = sample_decoder(\n",
        "    x=en,\n",
        "    context=pt_emb)\n",
        "\n",
        "print(en.shape)\n",
        "print(pt_emb.shape)\n",
        "print(output.shape)"
      ],
      "metadata": {
        "colab": {
          "base_uri": "https://localhost:8080/"
        },
        "id": "BixxFk3IWZqt",
        "outputId": "9854e8c6-8a8a-47c1-e604-2b181974e08a"
      },
      "execution_count": null,
      "outputs": [
        {
          "output_type": "stream",
          "name": "stdout",
          "text": [
            "(128, 64)\n",
            "(128, 47, 512)\n",
            "(128, 64, 512)\n"
          ]
        }
      ]
    },
    {
      "cell_type": "code",
      "source": [
        "class Transformer(tf.keras.Model):\n",
        "  def __init__(self, *, num_layers, d_model, num_heads, dff,\n",
        "               input_vocab_size, target_vocab_size, dropout_rate=0.1):\n",
        "    super().__init__()\n",
        "    # Кодировщик\n",
        "    self.encoder = Encoder(num_layers=num_layers, d_model=d_model,\n",
        "                           num_heads=num_heads, dff=dff,\n",
        "                           vocab_size=input_vocab_size,\n",
        "                           dropout_rate=dropout_rate)\n",
        "    # Декодировщик\n",
        "    self.decoder = Decoder(num_layers=num_layers, d_model=d_model,\n",
        "                           num_heads=num_heads, dff=dff,\n",
        "                           vocab_size=target_vocab_size,\n",
        "                           dropout_rate=dropout_rate)\n",
        "    # Конечный слой\n",
        "    self.final_layer = tf.keras.layers.Dense(target_vocab_size)\n",
        "\n",
        "  def call(self, inputs):\n",
        "    # Чтобы использовать метод `.fit` для обучения модели, необходимо передать\n",
        "    # все входные данные в первом аргументе\n",
        "    context, x  = inputs\n",
        "\n",
        "    # Передаем контекст в кодировщик\n",
        "    context = self.encoder(context)  # форма выходных данных (batch_size, context_len, d_model)\n",
        "\n",
        "    # Передаем контекст и целевой вектор в декодировщик\n",
        "    x = self.decoder(x, context)  # форма выходных данных (batch_size, target_len, d_model)\n",
        "\n",
        "    # Прогоняем выходные данные через финальный слой\n",
        "    logits = self.final_layer(x)  # форма выходных данных (batch_size, target_len, target_vocab_size)\n",
        "\n",
        "    try:\n",
        "      # После прохождения данных через все слои необходимо удалить\n",
        "      # маску, чтобы она не масштабировала, потери и метрики\n",
        "      # Обработчик ошибок позволяет избежать исключений при повторной попытке удаления\n",
        "      del logits._keras_mask\n",
        "    except AttributeError: # отлавливаем ошибку отсутствия аттрибута\n",
        "      pass\n",
        "\n",
        "    # Возвращаем наши логиты\n",
        "    return logits"
      ],
      "metadata": {
        "id": "BgySMIXuWcIF"
      },
      "execution_count": null,
      "outputs": []
    },
    {
      "cell_type": "code",
      "source": [],
      "metadata": {
        "id": "WDvn-0f7dtUa"
      },
      "execution_count": null,
      "outputs": []
    },
    {
      "cell_type": "code",
      "source": [
        "#logits = tf.layers.dense(inputs=dropout, units=10)\n"
      ],
      "metadata": {
        "id": "iwRGlzPXWeLN"
      },
      "execution_count": null,
      "outputs": []
    },
    {
      "cell_type": "code",
      "source": [],
      "metadata": {
        "id": "x_mlu4OrWfdV"
      },
      "execution_count": null,
      "outputs": []
    },
    {
      "cell_type": "code",
      "source": [
        "transformer = Transformer(\n",
        "    num_layers=num_layers,\n",
        "    d_model=d_model,\n",
        "    num_heads=num_heads,\n",
        "    dff=dff,\n",
        "    input_vocab_size=tokenizers.pt.get_vocab_size().numpy(),\n",
        "    target_vocab_size=tokenizers.en.get_vocab_size().numpy(),\n",
        "    dropout_rate=dropout_rate)"
      ],
      "metadata": {
        "id": "E3erx3NOWhEe"
      },
      "execution_count": null,
      "outputs": []
    },
    {
      "cell_type": "code",
      "source": [
        "output = transformer((pt, en))\n",
        "\n",
        "print(en.shape)\n",
        "print(pt.shape)\n",
        "print(output.shape)"
      ],
      "metadata": {
        "colab": {
          "base_uri": "https://localhost:8080/"
        },
        "id": "vGKhWMO2WiOF",
        "outputId": "72ada61c-1c49-40ab-8463-1f216458e174"
      },
      "execution_count": null,
      "outputs": [
        {
          "output_type": "stream",
          "name": "stdout",
          "text": [
            "(128, 64)\n",
            "(128, 47)\n",
            "(128, 64, 2767)\n"
          ]
        }
      ]
    },
    {
      "cell_type": "code",
      "source": [
        "attn_scores = transformer.decoder.dec_layers[-1].last_attn_scores\n",
        "print(attn_scores.shape)  # Форма оценок внимания: (batch, heads, target_seq, input_seq)"
      ],
      "metadata": {
        "colab": {
          "base_uri": "https://localhost:8080/"
        },
        "id": "Z4fhWvf3Wjid",
        "outputId": "219bd43c-d2e9-4026-ce73-39bd8ce49560"
      },
      "execution_count": null,
      "outputs": [
        {
          "output_type": "stream",
          "name": "stdout",
          "text": [
            "(128, 6, 64, 47)\n"
          ]
        }
      ]
    },
    {
      "cell_type": "code",
      "source": [
        "class CustomSchedule(tf.keras.optimizers.schedules.LearningRateSchedule):\n",
        "  def __init__(self, d_model, warmup_steps=4000):\n",
        "    super().__init__()\n",
        "\n",
        "    self.d_model = d_model\n",
        "    self.d_model = tf.cast(self.d_model, tf.float32)\n",
        "\n",
        "    self.warmup_steps = warmup_steps\n",
        "\n",
        "  def __call__(self, step):\n",
        "    step = tf.cast(step, dtype=tf.float32)\n",
        "    arg1 = tf.math.rsqrt(step)\n",
        "    arg2 = step * (self.warmup_steps ** -1.5)\n",
        "\n",
        "    return tf.math.rsqrt(self.d_model) * tf.math.minimum(arg1, arg2)"
      ],
      "metadata": {
        "id": "OCqqHNsOWk7l"
      },
      "execution_count": null,
      "outputs": []
    },
    {
      "cell_type": "code",
      "source": [
        "learning_rate = CustomSchedule(d_model)\n",
        "\n",
        "optimizer = tf.keras.optimizers.Adam(learning_rate, beta_1=0.9, beta_2=0.98,\n",
        "                                     epsilon=1e-9)"
      ],
      "metadata": {
        "id": "GCojjZuNWmRn"
      },
      "execution_count": null,
      "outputs": []
    },
    {
      "cell_type": "code",
      "source": [
        "# Количество батчей для обучения\n",
        "num_batches = 0\n",
        "for (batch, (_,_)) in enumerate(train_batches):\n",
        "  num_batches = batch\n",
        "print(num_batches)"
      ],
      "metadata": {
        "colab": {
          "base_uri": "https://localhost:8080/"
        },
        "id": "qRsgclJoWnTd",
        "outputId": "d48f40e7-f1c8-4500-8c54-68eccf5ecbee"
      },
      "execution_count": null,
      "outputs": [
        {
          "output_type": "stream",
          "name": "stdout",
          "text": [
            "53\n"
          ]
        }
      ]
    },
    {
      "cell_type": "code",
      "source": [
        "plt.plot(learning_rate(tf.range(num_batches*EPOCHS, dtype=tf.float32)))\n",
        "plt.ylabel('Скорость обучения')\n",
        "plt.xlabel('Шаг обучения')"
      ],
      "metadata": {
        "colab": {
          "base_uri": "https://localhost:8080/",
          "height": 466
        },
        "id": "0fa5XqSrWoal",
        "outputId": "8e1e1e62-58c0-4f55-92d0-ee8409220d36"
      },
      "execution_count": null,
      "outputs": [
        {
          "output_type": "execute_result",
          "data": {
            "text/plain": [
              "Text(0.5, 0, 'Шаг обучения')"
            ]
          },
          "metadata": {},
          "execution_count": 72
        },
        {
          "output_type": "display_data",
          "data": {
            "text/plain": [
              "<Figure size 640x480 with 1 Axes>"
            ],
            "image/png": "[encoded data removed]"
          },
          "metadata": {}
        }
      ]
    },
    {
      "cell_type": "code",
      "source": [
        "plt.plot(learning_rate(tf.range(num_batches*EPOCHS*5, dtype=tf.float32)))\n",
        "plt.ylabel('Скорость обучения')\n",
        "plt.xlabel('Шаг обучения')"
      ],
      "metadata": {
        "colab": {
          "base_uri": "https://localhost:8080/",
          "height": 466
        },
        "id": "9Cl8fXloWp1l",
        "outputId": "8ea74de5-bb4c-4159-da50-4fd64044ebf5"
      },
      "execution_count": null,
      "outputs": [
        {
          "output_type": "execute_result",
          "data": {
            "text/plain": [
              "Text(0.5, 0, 'Шаг обучения')"
            ]
          },
          "metadata": {},
          "execution_count": 73
        },
        {
          "output_type": "display_data",
          "data": {
            "text/plain": [
              "<Figure size 640x480 with 1 Axes>"
            ],
            "image/png": "[encoded data removed]"
          },
          "metadata": {}
        }
      ]
    },
    {
      "cell_type": "code",
      "source": [
        "# Функция потерь с учетом маски\n",
        "def masked_loss(label, pred):\n",
        "  # Задаем маску, где метки не равны 0\n",
        "  mask = label != 0\n",
        "  # Определяем функцию потерь\n",
        "  loss_object = tf.keras.losses.SparseCategoricalCrossentropy(\n",
        "    from_logits=True, reduction='none')\n",
        "  loss = loss_object(label, pred)\n",
        "\n",
        "  # Важно чтобы mask и loss имели одинаковый тип данных\n",
        "  mask = tf.cast(mask, dtype=loss.dtype)\n",
        "  # Наложение маски на loss\n",
        "  loss *= mask\n",
        "\n",
        "  # Масштабирование потерь на маску\n",
        "  loss = tf.reduce_sum(loss)/tf.reduce_sum(mask)\n",
        "  return loss\n",
        "\n",
        "# Функция точности с учетом маски\n",
        "def masked_accuracy(label, pred):\n",
        "  pred = tf.argmax(pred, axis=2)\n",
        "  label = tf.cast(label, pred.dtype)\n",
        "  # Оценка совпадения метки и предсказания\n",
        "  match = label == pred\n",
        "  # Задаем маску, где метки не равны 0\n",
        "  mask = label != 0\n",
        "\n",
        "  # Логическое И\n",
        "  match = match & mask\n",
        "\n",
        "  # Преобразуем к одному типу и масштабирование совпадений на маску\n",
        "  match = tf.cast(match, dtype=tf.float32)\n",
        "  mask = tf.cast(mask, dtype=tf.float32)\n",
        "  return tf.reduce_sum(match)/tf.reduce_sum(mask)"
      ],
      "metadata": {
        "id": "kNrrRFELWr2F"
      },
      "execution_count": null,
      "outputs": []
    },
    {
      "cell_type": "code",
      "source": [
        "transformer.compile(\n",
        "    loss=masked_loss,\n",
        "    optimizer=optimizer,\n",
        "    metrics=[masked_accuracy])"
      ],
      "metadata": {
        "id": "Jkq3iCoKWtTl"
      },
      "execution_count": null,
      "outputs": []
    },
    {
      "cell_type": "code",
      "source": [
        "transformer.fit(train_batches,\n",
        "                epochs=EPOCHS,\n",
        "                validation_data=val_batches)"
      ],
      "metadata": {
        "colab": {
          "base_uri": "https://localhost:8080/"
        },
        "id": "-hnT1wqFWuXd",
        "outputId": "d0a597ed-5418-41ed-c39e-4ffb9bca2b84"
      },
      "execution_count": null,
      "outputs": [
        {
          "output_type": "stream",
          "name": "stdout",
          "text": [
            "Epoch 1/10\n",
            "\u001b[1m 5/54\u001b[0m \u001b[32m━\u001b[0m\u001b[37m━━━━━━━━━━━━━━━━━━━\u001b[0m \u001b[1m18:28\u001b[0m 23s/step - loss: 8.0003 - masked_accuracy: 1.2037e-04"
          ]
        }
      ]
    },
    {
      "cell_type": "code",
      "source": [
        "class Translator(tf.Module):\n",
        "  def __init__(self, tokenizers, transformer):\n",
        "    self.tokenizers = tokenizers\n",
        "    self.transformer = transformer\n",
        "\n",
        "  def __call__(self, sentence, max_length=MAX_TOKENS):\n",
        "\n",
        "    assert isinstance(sentence, tf.Tensor) # Проверяем, что последовательность является тензором\n",
        "    if len(sentence.shape) == 0:\n",
        "      sentence = sentence[tf.newaxis]\n",
        "\n",
        "    sentence = self.tokenizers.pt.tokenize(sentence).to_tensor()\n",
        "    # Введенное предложение написано на португальском языке\n",
        "    encoder_input = sentence\n",
        "\n",
        "    # Поскольку языком вывода является английский, инициализируйте вывод с помощью токена [START]\n",
        "    start_end = self.tokenizers.en.tokenize([''])[0]\n",
        "    start = start_end[0][tf.newaxis]\n",
        "    end = start_end[1][tf.newaxis]\n",
        "\n",
        "    # Здесь требуется  tf.TensorArray` (вместо списка Python), чтобы динамический цикл\n",
        "    # можно было отследить с помощью `tf.function`.\n",
        "    output_array = tf.TensorArray(dtype=tf.int64, size=0, dynamic_size=True)\n",
        "    output_array = output_array.write(0, start)\n",
        "\n",
        "    for i in tf.range(max_length):\n",
        "      # на каждом шаге складываем выходные токены в массив для\n",
        "      #  передачи на вход на следующем шаге\n",
        "      output = tf.transpose(output_array.stack())\n",
        "      # передаем в трансформер для предсказания токены\n",
        "      predictions = self.transformer([encoder_input, output], training=False)\n",
        "\n",
        "      # Выбираем последний токен из измерения `seq_len`\n",
        "      predictions = predictions[:, -1:, :]  # Форма `(batch_size, 1, vocab_size)`.\n",
        "\n",
        "      # Предсказанный токен\n",
        "      predicted_id = tf.argmax(predictions, axis=-1)\n",
        "\n",
        "      # Объединяем `predicted_id` с выходными данными, которые передаются\n",
        "      # декодеру в качестве входных данных.\n",
        "      output_array = output_array.write(i+1, predicted_id[0])\n",
        "\n",
        "      if predicted_id == end:\n",
        "        break\n",
        "\n",
        "    output = tf.transpose(output_array.stack())\n",
        "    # Токены в текст\n",
        "    text = tokenizers.en.detokenize(output)[0]  # Shape: `()`.\n",
        "\n",
        "    tokens = tokenizers.en.lookup(output)[0]\n",
        "\n",
        "    # `tf.function` не позволяет нам использовать значения attention_weight, которые были\n",
        "    # рассчитаны на последней итерации цикла.\n",
        "    # Поэтому пересчитаем их вне цикла.\n",
        "    self.transformer([encoder_input, output[:,:-1]], training=False)\n",
        "    attention_weights = self.transformer.decoder.last_attn_scores\n",
        "\n",
        "    return text, tokens, attention_weights"
      ],
      "metadata": {
        "id": "wX5wlbTaWwrF"
      },
      "execution_count": null,
      "outputs": []
    },
    {
      "cell_type": "code",
      "source": [
        "translator = Translator(tokenizers, transformer)"
      ],
      "metadata": {
        "id": "s3S1DI_TWx5d"
      },
      "execution_count": null,
      "outputs": []
    },
    {
      "cell_type": "code",
      "source": [
        "def print_translation(sentence, tokens, ground_truth):\n",
        "  print(f'{\"Фраза для перевода:\":25s}: {sentence}')\n",
        "  print(f'{\"Предсказанный перевод:\":25s}: {tokens.numpy().decode(\"utf-8\")}')\n",
        "  print(f'{\"Оригинальный перевод\":25s}: {ground_truth}')"
      ],
      "metadata": {
        "id": "QIpom3ulWzBk"
      },
      "execution_count": null,
      "outputs": []
    },
    {
      "cell_type": "code",
      "source": [
        "sentence = 'почему не существует счастливых людей?'\n",
        "ground_truth = 'потому что несчастные и делают те единицы счастливых людей такими же.'\n",
        "\n",
        "translated_text, translated_tokens, attention_weights = translator(\n",
        "    tf.constant(sentence))\n",
        "print_translation(sentence, translated_text, ground_truth)"
      ],
      "metadata": {
        "id": "D1QmwZU6W0A1"
      },
      "execution_count": null,
      "outputs": []
    },
    {
      "cell_type": "markdown",
      "source": [
        "График внимания"
      ],
      "metadata": {
        "id": "0GtD78mH2wJd"
      }
    },
    {
      "cell_type": "code",
      "source": [
        "def plot_attention_head(in_tokens, translated_tokens, attention):\n",
        "  # Пропускаем токен `[START]`\n",
        "  translated_tokens = translated_tokens[1:]\n",
        "\n",
        "  ax = plt.gca()\n",
        "  ax.matshow(attention)\n",
        "  ax.set_xticks(range(len(in_tokens)))\n",
        "  ax.set_yticks(range(len(translated_tokens)))\n",
        "\n",
        "  labels = [label.decode('utf-8') for label in in_tokens.numpy()]\n",
        "  ax.set_xticklabels(\n",
        "      labels, rotation=90)\n",
        "\n",
        "  labels = [label.decode('utf-8') for label in translated_tokens.numpy()]\n",
        "  ax.set_yticklabels(labels)"
      ],
      "metadata": {
        "id": "TQY8WYlO2v0Y"
      },
      "execution_count": null,
      "outputs": []
    },
    {
      "cell_type": "code",
      "source": [
        "head = 0  # номер головы\n",
        "# Форма attention_weights: `(batch=1, num_heads, seq_len_q, seq_len_k)`.\n",
        "attention_heads = tf.squeeze(attention_weights, 0) # убираем нулевое измерение тензора\n",
        "attention = attention_heads[head] # выбираем нужную голову\n",
        "attention.shape"
      ],
      "metadata": {
        "id": "AOzD-PXg216T"
      },
      "execution_count": null,
      "outputs": []
    },
    {
      "cell_type": "code",
      "source": [
        "in_tokens = tf.convert_to_tensor([sentence])\n",
        "in_tokens = tokenizers.pt.tokenize(in_tokens).to_tensor()\n",
        "in_tokens = tokenizers.pt.lookup(in_tokens)[0]\n",
        "in_tokens"
      ],
      "metadata": {
        "id": "X9VDicfW24Kd"
      },
      "execution_count": null,
      "outputs": []
    },
    {
      "cell_type": "code",
      "source": [
        "translated_tokens"
      ],
      "metadata": {
        "id": "BUiaRGWU25z1"
      },
      "execution_count": null,
      "outputs": []
    },
    {
      "cell_type": "code",
      "source": [
        "plot_attention_head(in_tokens, translated_tokens, attention)"
      ],
      "metadata": {
        "id": "ECrAJqTt27BT"
      },
      "execution_count": null,
      "outputs": []
    },
    {
      "cell_type": "code",
      "source": [
        "def plot_attention_weights(sentence, translated_tokens, attention_heads):\n",
        "  in_tokens = tf.convert_to_tensor([sentence])\n",
        "  in_tokens = tokenizers.pt.tokenize(in_tokens).to_tensor()\n",
        "  in_tokens = tokenizers.pt.lookup(in_tokens)[0]\n",
        "\n",
        "  fig = plt.figure(figsize=(16, 8))\n",
        "\n",
        "  for h, head in enumerate(attention_heads):\n",
        "    ax = fig.add_subplot(2, 4, h+1)\n",
        "\n",
        "    plot_attention_head(in_tokens, translated_tokens, head)\n",
        "\n",
        "    ax.set_xlabel(f'Head {h+1}')\n",
        "\n",
        "  plt.tight_layout()\n",
        "  plt.show()"
      ],
      "metadata": {
        "id": "O4XmalVb29BT"
      },
      "execution_count": null,
      "outputs": []
    },
    {
      "cell_type": "code",
      "source": [
        "plot_attention_weights(sentence,\n",
        "                       translated_tokens,\n",
        "                       attention_weights[0])"
      ],
      "metadata": {
        "id": "4RcvaO5I2-a_"
      },
      "execution_count": null,
      "outputs": []
    }
  ]
}